{
 "cells": [
  {
   "cell_type": "markdown",
   "metadata": {},
   "source": [
    "# - Deep Learning - \n",
    "\n",
    "*__Submission Instructions:__*\n",
    "- All code must be written in this notebook (you do not need to submit any other files).\n",
    "- The output of all cells must be present in the version of the notebook you submit."
   ]
  },
  {
   "cell_type": "code",
   "execution_count": 60,
   "metadata": {
    "ExecuteTime": {
     "end_time": "2019-01-30T14:39:17.671980Z",
     "start_time": "2019-01-30T14:38:40.137027Z"
    }
   },
   "outputs": [],
   "source": [
    "import numpy as np\n",
    "import pandas as pd\n",
    "%matplotlib inline\n",
    "import matplotlib.pyplot as plt\n",
    "plt.style.use('seaborn')\n",
    "from IPython.display import Image\n",
    "import pydot\n",
    "from tqdm import tqdm_notebook\n",
    "# from tqdm import tqdm_notebook\n",
    "\n",
    "from class_tests import test_neural_network\n",
    "\n",
    "from sklearn.datasets import make_moons\n",
    "from sklearn.linear_model import LinearRegression, LogisticRegression"
   ]
  },
  {
   "cell_type": "markdown",
   "metadata": {},
   "source": [
    "**Please write your roll number in th\n",
    "e next cell**"
   ]
  },
  {
   "cell_type": "code",
   "execution_count": 1,
   "metadata": {
    "ExecuteTime": {
     "end_time": "2019-01-30T14:36:37.383767Z",
     "start_time": "2019-01-30T14:36:37.333537Z"
    }
   },
   "outputs": [],
   "source": [
    "rollnumber = 19100000"
   ]
  },
  {
   "cell_type": "markdown",
   "metadata": {},
   "source": [
    "In this assignment you will be creating 4 versions of the `NeuralNetwork` class. You will start with a simple 2 layer feed forward network and progressively modify the class by adding features to make it more generic. At the end you will have implemented a version which can create networks of arbitrary shape and depth, and which will work for both regression and classification tasks. \n",
    "\n",
    "Often in pratical situations, raw machine learning architecture and code is hidden behind libraries and simplfied toolkits. The purpose of this assignment is to lift that curtain and get you hands-on exprience working with the mathematical fundamentals of neural network architectures. After this, you'll know exactly how a network leverages 'gradient descent' to find optimal solutions and how forward and backward passes are implemented mathematically and in code.\n",
    "\n",
    "\n",
    "### Primary Task\n",
    "Skeleton code is provided to get you started; the main methods you need to implement correspond to the 3 steps of the training process, namely:\n",
    "1. Forward pass\n",
    "2. Backward pass AKA Backpropogation\n",
    "3. Weight Update AKA Gradient Descent\n",
    "\n",
    "__Look for comments in the code to see where you are supposed to write code.__ You should use the lecture [slides]() as reference for the equations. \n",
    "\n",
    "A `fit` function is what combines the previous three functions and overall trains the network to __fit__ to the provided training examples. In all the following tasks, the provided `fit` methods require the three steps of the training process to be correctly working. The function has been setup in a way that it expects the above 3 methods to take particular inputs and return particular outputs. __You are supposed to work within this restriction.__ Modification of the provided code without prior discussion with the TAs will result in a __grade deduction__. \n",
    "\n",
    "### Support code\n",
    "The class comes with a few useful methods for the activation functions, plotting and model error evaluation. Here are some points to note:\n",
    "1. Test cases have been provided for the functions (methods) you need to implement. \n",
    "2. These test cases are present in a separate python script but you will only need to use a function imported into this notebook to leverage them (usage is shown in each task). \n",
    "3. The test cases will check the 3 individual functions you will have written and but not the overall model that they fit into. \n",
    "4. The test cases expect you to implement stochastic gradient descent (and __not__ the other two implementations).\n",
    "5. The test cases are __not__ exhaustive so they do not guarantee that your solution is 100% correct. For that you should always look at the loss plot during training.\n",
    "\n",
    "To see how well your model is doing, you need to look at the dummy tasks and make sure your model loss is going down during training. A dummy regression task of adding two numbers (sum less than 1) has been provided as well. Similarly, a dummy classification task (XOR logic gate) is also present. You can look at the shapes of the inputs and outputs matrices as well as the training trend (once you implement a full task) by using your own class (make sure you are using the correct arguments to the `__init__` method). \n",
    "\n",
    "You can find a demonstration of the neural network working on a synthetic dataset for both regression and classification at the end of the notebook. After you implement your class fully, you can play with the parameters and see the visualization change, we highly recommend that you try this. This part of the notebook will not be graded in any way, but it might give you a better insight/intuition into how the model makes decisions, and how important parameters are in terms of the usefullness of neural networks. You will explore the parameter space more thoroughly in the next assignment :P\n",
    "\n",
    "### Side note\n",
    "*The `plot_model` method will only work if you have the `pydot` python package installed along with [Graphviz](https://graphviz.gitlab.io/download/)). If you do not wish to use this then simply comment out the import for `pydot`.*\n",
    "\n",
    "### Need Help?\n",
    "If you need help, refer to your textbook (provided on LMS) which has examples and explanations for all the processes you'll have to implement, as well as rich details on functions such as `sigmoid` and `softmax`. Going over the book once before getting started is a good idea, you can also refer to the class slides. "
   ]
  },
  {
   "cell_type": "markdown",
   "metadata": {
    "heading_collapsed": true
   },
   "source": [
    "## Task 1"
   ]
  },
  {
   "cell_type": "markdown",
   "metadata": {
    "hidden": true
   },
   "source": [
    "In this task you will implement the simplest version of a feed forward neural network - a 2 layer network. \n",
    "\n",
    "Your code will only be partially vectorized, this means that you will be passing a single data point through the network at a time. In simple terms, the running time of your `fit` method will be $O(e*n)$ where $e$ is the number of epochs and $n$ is the number of data points (assuming all functions/methods called in `fit` take constant time). \n",
    "\n",
    "This version of the network will be using the `softmax` activation function for the output layer and `sigmoid` for the hidden layer, *ie.* a classification model which learns to output the joint probability mass function of the classes in the dataset. "
   ]
  },
  {
   "cell_type": "code",
   "execution_count": 62,
   "metadata": {
    "ExecuteTime": {
     "end_time": "2019-01-27T01:25:17.044301Z",
     "start_time": "2019-01-27T01:25:16.984346Z"
    },
    "hidden": true
   },
   "outputs": [],
   "source": [
    "class NeuralNetwork():\n",
    "    @staticmethod\n",
    "    def cross_entropy_loss(y_pred, y_true):\n",
    "        return -(y_true * np.log(y_pred)).sum()\n",
    "    \n",
    "    @staticmethod\n",
    "    def accuracy(y_pred, y_true):\n",
    "        return np.sum(y_pred == y_true)\n",
    "    \n",
    "    @staticmethod\n",
    "    def softmax(x):\n",
    "        expx = np.exp(x)\n",
    "        return expx / expx.sum(axis=1, keepdims=True)\n",
    "    \n",
    "    @staticmethod\n",
    "    def sigmoid(x):\n",
    "        return 1 / (1 + np.exp(-x))\n",
    "    \n",
    "    def __init__(self, input_size, hidden_nodes, output_size):\n",
    "        '''Creates a Feed-Forward Neural Network.\n",
    "        The parameters represent the number of nodes in each layer (total 3).'''\n",
    "        self.num_layers = 3 # includes input layer\n",
    "        self.input_shape = input_size\n",
    "        self.hidden_shape = hidden_nodes\n",
    "        self.output_shape = output_size\n",
    "        \n",
    "        self.weights_ = self.biases_ = []\n",
    "        self.__init_weights()\n",
    "    \n",
    "    def __init_weights(self):\n",
    "        '''Initializes all weights based on standard normal distribution and all biases to 0.'''\n",
    "        W_h = np.random.normal(size=(self.input_shape, self.hidden_shape))\n",
    "        b_h = np.zeros(shape=(self.hidden_shape,))\n",
    "        \n",
    "        W_o = np.random.normal(size=(self.hidden_shape, self.output_shape))\n",
    "        b_o = np.zeros(shape=(self.output_shape,))\n",
    "        \n",
    "        self.weights_ = [W_h, W_o]\n",
    "        self.biases_  = [b_h, b_o]\n",
    "    \n",
    "    def fit(self, Xs, Ys, epochs, lr=1e-3):\n",
    "        '''Trains the model on the given dataset for \"epoch\" number of itterations with step size=\"lr\". \n",
    "        Returns list containing loss for each epoch.'''\n",
    "        history = []\n",
    "        for epoch in tqdm_notebook(range(epochs)):\n",
    "            num_samples = Xs.shape[0]\n",
    "            for i in range(num_samples):\n",
    "                sample_input = Xs[i,:].reshape((1,self.input_shape))\n",
    "                print(\"sample_inp: \",sample_input)\n",
    "                sample_target = Ys[i,:].reshape((1,self.output_shape))\n",
    "                \n",
    "                activations = self.forward_pass(sample_input)\n",
    "                print(\"DONE\")\n",
    "                deltas = self.backward_pass(sample_target, activations)\n",
    "\n",
    "                layer_inputs = [sample_input] + activations[:-1]\n",
    "                self.weight_update(deltas, layer_inputs, lr)\n",
    "            \n",
    "            preds = self.predict(Xs)\n",
    "            current_loss = self.cross_entropy_loss(preds, Ys)\n",
    "            history.append(current_loss)\n",
    "        return history\n",
    "    \n",
    "    ## YOUR WORK STARTS HERE, YOU NEED TO LEAVE ALL THE OTHER FUNCTIONS AS THEY ARE\n",
    "    \n",
    "    def forward_pass(self, input_data):\n",
    "        '''Executes the feed forward algorithm.\n",
    "        \"input_data\" is the input to the network in row-major form\n",
    "        Returns \"activations\", which is a list of all layer outputs (excluding input layer of course)'''\n",
    "        activations = []\n",
    "        mid=sigMid=outLayer = np.array([])\n",
    "        \n",
    "        # TODO\n",
    "        print(\"input data: \",input_data.shape)\n",
    "        print(\"ino bias: \", self.biases_)\n",
    "        print(\"self.weights IS: \",self.weights_[1].shape)\n",
    "        print(\"output shape: \", self.output_shape)\n",
    "        print(\"inp\",self.input_shape)\n",
    "        print(\"h\",self.hidden_shape )\n",
    "        print(\"out\",self.output_shape)\n",
    "        mid=np.dot(input_data,self.weights_[0]) + self.biases_[0]\n",
    "#         print(\"Mid is: \",mid)\n",
    "        sigMid= self.sigmoid(mid)\n",
    "        \n",
    "#         print(\"sigMid is: \",sigMid)\n",
    "        outLayer= self.softmax(np.dot(sigMid,self.weights_[1]) + self.biases_[1])\n",
    "#         print(\"Zo: \",outLayer)\n",
    "#         activations[0]=sigMid\n",
    "#         activations[1]=outLayer\n",
    "        activations.append(sigMid)\n",
    "        activations.append(outLayer)\n",
    "#         print (\"Activation:\",activations)\n",
    "        return activations\n",
    "    \n",
    "    def backward_pass(self, targets, layer_activations):\n",
    "        '''Executes the backpropogation algorithm.\n",
    "        \"targets\" is the ground truth/labels\n",
    "        \"layer_activations\" are the return value of the forward pass step\n",
    "        Returns \"deltas\", which is a list containing weight update values for all layers (excluding the input layer of course)'''\n",
    "        deltas = []\n",
    "#         print(\"started back prop!!\")\n",
    "        dE=dSoftmax = hidDelta=hiddenError=inpDelta=dInpError=dSigmoid=np.array([])\n",
    "        \n",
    "        dE=layer_activations[1]-targets\n",
    "#         print(\"DE is: \",dE)\n",
    "#         print(\"layer activations: \",layer_activations)\n",
    "#         print(\"1-act: \",1-layer_activations[1])\n",
    "        dSoftmax=np.multiply(layer_activations[1],(1-layer_activations[1]))\n",
    "#         print(\"softMax deriv is: \",dSoftmax)\n",
    "        hidDelta=dE      #delta error of softmax\n",
    "        dInpError = (np.dot(self.weights_[1],hidDelta.T)).T\n",
    "        dSigmoid= np.multiply(layer_activations[0],(1-layer_activations[0]))\n",
    "        inpDelta=(np.multiply(dInpError,dSigmoid))\n",
    "        \n",
    "        deltas.append(inpDelta)\n",
    "        deltas.append(hidDelta)\n",
    "#         print(\"deltas: \",deltas)\n",
    "        return deltas\n",
    "\n",
    "    def weight_update(self, deltas, layer_inputs, lr):\n",
    "        '''Executes the gradient descent algorithm.\n",
    "        \"deltas\" is return value of the backward pass step\n",
    "        \"layer_inputs\" is a list containing the inputs for all layers (including the input layer)\n",
    "        \"lr\" is the learning rate'''\n",
    "        # TODO\n",
    "#         print(\"Updating the weights!!!\")\n",
    "        dEhx=dEox=np.array([])\n",
    "        dEox=(np.dot((deltas[1].T),layer_inputs[1])).T\n",
    "#         print(\"dex: \",dEox)\n",
    "        dEhx=(np.dot((deltas[0].T),layer_inputs[0])).T\n",
    "        \n",
    "        \n",
    "        self.weights_[1]=self.weights_[1]- (lr*(dEox))\n",
    "        self.weights_[0]=self.weights_[0]- (lr*(dEhx))\n",
    "#         print(\"self.biases 0-1: \",self.biases_[0],\" \", self.biases_[1])\n",
    "        self.biases_[1]=self.biases_[1]- lr*(deltas[1])\n",
    "        self.biases_[0]=self.biases_[0]- lr*(deltas[0])\n",
    "#         print(\"self.biases 0-1: \",self.biases_[0],\" \", self.biases_[1])\n",
    "        \n",
    "    \n",
    "    def predict(self, Xs):\n",
    "        '''Returns the model predictions (output of the last layer) for the given \"Xs\".'''\n",
    "        predictions = []\n",
    "        num_samples = Xs.shape[0]\n",
    "        for i in range(num_samples):\n",
    "            sample = Xs[i,:].reshape((1,self.input_shape))\n",
    "            sample_prediction = self.forward_pass(sample)[-1]\n",
    "            predictions.append(sample_prediction.reshape((self.output_shape,)))\n",
    "        return np.array(predictions)\n",
    "    \n",
    "    def evaluate(self, Xs, Ys):\n",
    "        '''Returns appropriate metrics for the task, calculated on the dataset passed to this method.'''\n",
    "        pred = self.predict(Xs)\n",
    "        return self.cross_entropy_loss(pred, Ys), self.accuracy(pred.argmax(axis=1), Ys.argmax(axis=1))\n",
    "    \n",
    "    def plot_model(self, filename):\n",
    "        '''Provide the \"filename\" as a string including file extension. Creates an image showing the model as a graph.'''\n",
    "        graph = pydot.Dot(graph_type='digraph')\n",
    "        graph.set_rankdir('LR')\n",
    "        graph.set_node_defaults(shape='circle', fontsize=0)\n",
    "        nodes_per_layer = [self.input_shape, self.hidden_shape, self.output_shape]\n",
    "        for i in range(self.num_layers-1):\n",
    "            for n1 in range(nodes_per_layer[i]):\n",
    "                for n2 in range(nodes_per_layer[i+1]):\n",
    "                    edge = pydot.Edge(f'l{i}n{n1}', f'l{i+1}n{n2}')\n",
    "                    graph.add_edge(edge)\n",
    "        graph.write_png(filename)"
   ]
  },
  {
   "cell_type": "code",
   "execution_count": 63,
   "metadata": {
    "ExecuteTime": {
     "end_time": "2019-01-27T01:25:23.531625Z",
     "start_time": "2019-01-27T01:25:20.453931Z"
    },
    "hidden": true
   },
   "outputs": [
    {
     "data": {
      "image/png": "[encoded data removed]",
      "text/plain": [
       "<IPython.core.display.Image object>"
      ]
     },
     "execution_count": 63,
     "metadata": {},
     "output_type": "execute_result"
    }
   ],
   "source": [
    "nn = NeuralNetwork(input_size=2, hidden_nodes=5, output_size=2)\n",
    "nn.plot_model('graph.png')\n",
    "Image('graph.png')"
   ]
  },
  {
   "cell_type": "code",
   "execution_count": 64,
   "metadata": {
    "ExecuteTime": {
     "end_time": "2019-01-27T01:25:30.833998Z",
     "start_time": "2019-01-27T01:25:30.643964Z"
    },
    "hidden": true
   },
   "outputs": [
    {
     "name": "stdout",
     "output_type": "stream",
     "text": [
      "Tests properly initialized\n",
      "task ans\n",
      "input data:  (1, 2)\n",
      "ino bias:  [array([0., 0., 0., 0., 0.]), array([0., 0.])]\n",
      "self.weights IS:  (5, 2)\n",
      "output shape:  2\n",
      "inp 2\n",
      "h 5\n",
      "out 2\n",
      "Forward pass is OK\n",
      "Backward pass is OK\n",
      "Weight update is OK\n"
     ]
    }
   ],
   "source": [
    "test_neural_network(NeuralNetwork, 'task1')"
   ]
  },
  {
   "cell_type": "markdown",
   "metadata": {
    "heading_collapsed": true
   },
   "source": [
    "## Task 2"
   ]
  },
  {
   "cell_type": "markdown",
   "metadata": {
    "hidden": true
   },
   "source": [
    "Now you will modify the class to allow the option to learn a regression model. You need to change some methods to account for the `mode` of the network. You can copy your code from task 1 (just the 3 primary functions) as a starting point if you want.\n",
    "\n",
    "If the `mode` is classification, you will use your code from Task1. In case of the `mode` being regression you will apply the `sigmoid` activation function to both layers and compute the deltas for that."
   ]
  },
  {
   "cell_type": "code",
   "execution_count": 65,
   "metadata": {
    "ExecuteTime": {
     "end_time": "2019-01-27T01:30:16.547173Z",
     "start_time": "2019-01-27T01:30:16.441918Z"
    },
    "hidden": true
   },
   "outputs": [],
   "source": [
    "class NeuralNetwork():\n",
    "    @staticmethod\n",
    "    def mean_squared_error(y_pred, y_true):\n",
    "        return np.mean((y_pred - y_true) ** 2)\n",
    "    \n",
    "    @staticmethod\n",
    "    def cross_entropy_loss(y_pred, y_true):\n",
    "        return -(y_true * np.log(y_pred)).sum()\n",
    "    \n",
    "    @staticmethod\n",
    "    def accuracy(y_pred, y_true):\n",
    "        return np.sum(y_pred == y_true)\n",
    "    \n",
    "    @staticmethod\n",
    "    def softmax(x):\n",
    "        expx = np.exp(x)\n",
    "        return expx / expx.sum(axis=1, keepdims=True)\n",
    "    \n",
    "    @staticmethod\n",
    "    def sigmoid(x):\n",
    "        return 1 / (1 + np.exp(-x))\n",
    "    \n",
    "    def __init__(self, input_size, hidden_nodes, output_size, mode):\n",
    "        '''Creates a Feed-Forward Neural Network.\n",
    "        \"mode\" can be one of 'regression' or 'classification' and controls the output activation as well as training metric\n",
    "        The rest of the parameters represent the number of nodes in each layer (total 3).'''\n",
    "        if mode not in ['classification','regression']:\n",
    "            raise ValueError('Only \"classification\" and \"regression\" modes are supported.')\n",
    "        \n",
    "        self.num_layers = 3 # includes input layer\n",
    "        self.input_shape = input_size\n",
    "        self.hidden_shape = hidden_nodes\n",
    "        self.output_shape = output_size\n",
    "        self.mode = mode\n",
    "        \n",
    "        self.weights_ = self.biases_ = []\n",
    "        self.__init_weights()\n",
    "    \n",
    "    def __init_weights(self):\n",
    "        '''Initializes all weights based on standard normal distribution and all biases to 0.'''\n",
    "        W_h = np.random.normal(size=(self.input_shape, self.hidden_shape))\n",
    "        b_h = np.zeros(shape=(self.hidden_shape,))\n",
    "        \n",
    "        W_o = np.random.normal(size=(self.hidden_shape, self.output_shape))\n",
    "        b_o = np.zeros(shape=(self.output_shape,))\n",
    "        \n",
    "        self.weights_ = [W_h, W_o]\n",
    "        self.biases_  = [b_h, b_o]\n",
    "    \n",
    "    def fit(self, Xs, Ys, epochs, lr=1e-3):\n",
    "        '''Trains the model on the given dataset for \"epoch\" number of itterations with step size=\"lr\". \n",
    "        Returns list containing loss for each epoch.'''\n",
    "        history = []\n",
    "        for epoch in tqdm_notebook(range(epochs)):\n",
    "            num_samples = Xs.shape[0]\n",
    "            for i in range(num_samples):\n",
    "                sample_input = Xs[i,:].reshape((1,self.input_shape))\n",
    "                sample_target = Ys[i,:].reshape((1,self.output_shape))\n",
    "                \n",
    "                activations = self.forward_pass(sample_input)\n",
    "                deltas = self.backward_pass(sample_target, activations)\n",
    "\n",
    "                layer_inputs = [sample_input] + activations[:-1]\n",
    "                self.weight_update(deltas, layer_inputs, lr)\n",
    "            \n",
    "            preds = self.predict(Xs)\n",
    "            if self.mode == 'regression':\n",
    "                current_loss = self.mean_squared_error(preds, Ys)\n",
    "            elif self.mode == 'classification':\n",
    "                current_loss = self.cross_entropy_loss(preds, Ys)\n",
    "            history.append(current_loss)\n",
    "        return history\n",
    "    \n",
    "    \n",
    "    def forward_pass(self, input_data):\n",
    "        '''Executes the feed forward algorithm.\n",
    "        \"input_data\" is the input to the network in row-major form\n",
    "        Returns \"activations\", which is a list of all layer outputs (excluding input layer of course)'''\n",
    "        activations = []\n",
    "        #TODO\n",
    "        mid=sigMid=outLayer = np.array([])\n",
    "        print(\"input data: \",input_data)\n",
    "#         print(\"ino bias: \", self.biases_)\n",
    "#         print(\"self.weights: \",self.weights_[1].shape)\n",
    "        mid=np.dot(input_data,self.weights_[0]) + self.biases_[0]\n",
    "        sigMid= self.sigmoid(mid)\n",
    "        \n",
    "        if(self.mode==\"classification\"):\n",
    "            outLayer= self.softmax(np.dot(sigMid,self.weights_[1]) + self.biases_[1])\n",
    "        elif(self.mode==\"regression\"):\n",
    "            outLayer= self.sigmoid(np.dot(sigMid,self.weights_[1]) + self.biases_[1])\n",
    "        else:\n",
    "            print(\"None of those. Think about this\")\n",
    "#         activations[0]=sigMid\n",
    "#         activations[1]=outLayer\n",
    "        activations.append(sigMid)\n",
    "        activations.append(outLayer)\n",
    "#         print (\"Activation:\",activations)\n",
    "        \n",
    "        return activations\n",
    "    \n",
    "    def backward_pass(self, targets, layer_activations):\n",
    "        '''Executes the backpropogation algorithm.\n",
    "        \"targets\" is the ground truth/labels\n",
    "        \"layer_activations\" are the return value of the forward pass step\n",
    "        Returns \"deltas\", which is a list containing weight update values for all layers (excluding the input layer of course)'''\n",
    "        deltas = []\n",
    "        #TODO\n",
    "        dE=dSoftmax = hidDelta=hiddenError=inpDelta=dInpError=dSigmoid=np.array([])\n",
    "        \n",
    "        dE=layer_activations[1]-targets\n",
    "        dSoftmax=np.multiply(layer_activations[1],(1-layer_activations[1]))\n",
    "#         print(\"softMax deriv is: \",dSoftmax)\n",
    "        if(self.mode==\"classification\"):\n",
    "            hidDelta=dE      \n",
    "        elif(self.mode==\"regression\"):\n",
    "            hidDelta=np.multiply(dE,dSoftmax)\n",
    "        else:\n",
    "            print(\"None of those. Think about this\")\n",
    "            \n",
    "        dInpError = (np.dot(self.weights_[1],hidDelta.T)).T\n",
    "\n",
    "        dSigmoid= np.multiply(layer_activations[0],(1-layer_activations[0]))\n",
    "        inpDelta=(np.multiply(dInpError,dSigmoid))\n",
    "        \n",
    "        deltas.append(inpDelta)\n",
    "        deltas.append(hidDelta)\n",
    "        return deltas\n",
    "    \n",
    "    def weight_update(self, deltas, layer_inputs, lr):\n",
    "        '''Executes the gradient descent algorithm.\n",
    "        \"deltas\" is return value of the backward pass step\n",
    "        \"layer_inputs\" is a list containing the inputs for all layers (including the input layer)\n",
    "        \"lr\" is the learning rate'''\n",
    "        #TODO\n",
    "        dEhx=dEox=np.array([])\n",
    "        dEox=(np.dot((deltas[1].T),layer_inputs[1])).T\n",
    "#         print(\"dex: \",dEox)\n",
    "        dEhx=(np.dot((deltas[0].T),layer_inputs[0])).T\n",
    "        \n",
    "        \n",
    "        self.weights_[1]=self.weights_[1]- (lr*(dEox))\n",
    "        self.weights_[0]=self.weights_[0]- (lr*(dEhx))\n",
    "#         print(\"self.biases 0-1: \",self.biases_[0],\" \", self.biases_[1])\n",
    "        self.biases_[1]=self.biases_[1]- lr*(deltas[1])\n",
    "        self.biases_[0]=self.biases_[0]- lr*(deltas[0])\n",
    "#         print(\"self.biases 0-1: \",self.biases_[0],\" \", self.biases_[1])\n",
    "    \n",
    "    \n",
    "    def predict(self, Xs):\n",
    "        '''Returns the model predictions (output of the last layer) for the given \"Xs\".'''\n",
    "        predictions = []\n",
    "        num_samples = Xs.shape[0]\n",
    "        for i in range(num_samples):\n",
    "            sample = Xs[i,:].reshape((1,self.input_shape))\n",
    "            sample_prediction = self.forward_pass(sample)[-1]\n",
    "            predictions.append(sample_prediction.reshape((self.output_shape,)))\n",
    "        return np.array(predictions)\n",
    "    \n",
    "    def evaluate(self, Xs, Ys):\n",
    "        '''Returns appropriate metrics for the task, calculated on the dataset passed to this method.'''\n",
    "        pred = self.predict(Xs)\n",
    "        if self.mode == 'regression':\n",
    "            return self.mean_squared_error(pred, Ys)\n",
    "        elif self.mode == 'classification':\n",
    "            return self.cross_entropy_loss(pred, Ys), self.accuracy(pred.argmax(axis=1), Ys.argmax(axis=1))\n",
    "    \n",
    "    def plot_model(self, filename):\n",
    "        '''Provide the \"filename\" as a string including file extension. Creates an image showing the model as a graph.'''\n",
    "        graph = pydot.Dot(graph_type='digraph')\n",
    "        graph.set_rankdir('LR')\n",
    "        graph.set_node_defaults(shape='circle', fontsize=0)\n",
    "        nodes_per_layer = [self.input_shape, self.hidden_shape, self.output_shape]\n",
    "        for i in range(self.num_layers-1):\n",
    "            for n1 in range(nodes_per_layer[i]):\n",
    "                for n2 in range(nodes_per_layer[i+1]):\n",
    "                    edge = pydot.Edge(f'l{i}n{n1}', f'l{i+1}n{n2}')\n",
    "                    graph.add_edge(edge)\n",
    "        graph.write_png(filename)"
   ]
  },
  {
   "cell_type": "code",
   "execution_count": 66,
   "metadata": {
    "hidden": true
   },
   "outputs": [
    {
     "data": {
      "image/png": "[encoded data removed]",
      "text/plain": [
       "<IPython.core.display.Image object>"
      ]
     },
     "execution_count": 66,
     "metadata": {},
     "output_type": "execute_result"
    }
   ],
   "source": [
    "nn = NeuralNetwork(input_size=2, hidden_nodes=5, output_size=1, mode='regression')\n",
    "nn.plot_model('graph.png')\n",
    "Image('graph.png')"
   ]
  },
  {
   "cell_type": "code",
   "execution_count": 67,
   "metadata": {
    "hidden": true
   },
   "outputs": [
    {
     "name": "stdout",
     "output_type": "stream",
     "text": [
      "Tests properly initialized\n",
      "input data:  [[0.30592645 0.38612238]]\n",
      "Forward pass is OK\n",
      "Backward pass is OK\n",
      "Weight update is OK\n"
     ]
    }
   ],
   "source": [
    "test_neural_network(NeuralNetwork, 'task2')"
   ]
  },
  {
   "cell_type": "markdown",
   "metadata": {
    "heading_collapsed": true
   },
   "source": [
    "## Task 3"
   ]
  },
  {
   "cell_type": "markdown",
   "metadata": {
    "hidden": true
   },
   "source": [
    "Again, if it helps copy only your code from Task2 (just the 3 primary functions) as a starting point in the next cell. Now you will modify the class to allow an arbitrarily shaped network. You will need to change all 3 primary methods.\n",
    "\n",
    "*Hint: The output/last layer is special in terms of the delta calculation. All the hidden layers have the same calculation (chain rule)*"
   ]
  },
  {
   "cell_type": "code",
   "execution_count": 85,
   "metadata": {
    "ExecuteTime": {
     "end_time": "2019-01-27T01:30:16.547173Z",
     "start_time": "2019-01-27T01:30:16.441918Z"
    },
    "hidden": true
   },
   "outputs": [],
   "source": [
    "class NeuralNetwork():\n",
    "    @staticmethod\n",
    "    def mean_squared_error(y_pred, y_true):\n",
    "        return np.mean((y_pred - y_true) ** 2)\n",
    "    \n",
    "    @staticmethod\n",
    "    def cross_entropy_loss(y_pred, y_true):\n",
    "        return -(y_true * np.log(y_pred)).sum()\n",
    "    \n",
    "    @staticmethod\n",
    "    def accuracy(y_pred, y_true):\n",
    "        return np.sum(y_pred == y_true)\n",
    "    \n",
    "    @staticmethod\n",
    "    def softmax(x):\n",
    "        expx = np.exp(x)\n",
    "        return expx / expx.sum(axis=1, keepdims=True)\n",
    "    \n",
    "    @staticmethod\n",
    "    def sigmoid(x):\n",
    "        return 1 / (1 + np.exp(-x))\n",
    "    \n",
    "    def __init__(self, nodes_per_layer, mode):\n",
    "        '''Creates a Feed-Forward Neural Network.\n",
    "        \"nodes_per_layer\" is a list containing number of nodes in each layer (including input layer)\n",
    "        \"mode\" can be one of 'regression' or 'classification' and controls the output activation as well as training metric'''\n",
    "        if len(nodes_per_layer) < 2:\n",
    "            raise ValueError('Network must have atleast 2 layers (input and output).')\n",
    "        if not (np.array(nodes_per_layer) > 0).all():\n",
    "            raise ValueError('Number of nodes in all layers must be positive.')\n",
    "        if mode not in ['classification','regression']:\n",
    "            raise ValueError('Only \"classification\" and \"regression\" modes are supported.')\n",
    "        \n",
    "        self.num_layers = len(nodes_per_layer) # includes input layer\n",
    "        self.nodes_per_layer = nodes_per_layer\n",
    "        self.input_shape = nodes_per_layer[0]\n",
    "        self.output_shape = nodes_per_layer[-1]\n",
    "        self.mode = mode\n",
    "        \n",
    "        self.__init_weights(nodes_per_layer)\n",
    "    \n",
    "    def __init_weights(self, nodes_per_layer):\n",
    "        '''Initializes all weights based on standard normal distribution and all biases to 0.'''\n",
    "        self.weights_ = []\n",
    "        self.biases_ = []\n",
    "        for i,_ in enumerate(nodes_per_layer):\n",
    "            if i == 0:\n",
    "                # skip input layer, it does not have weights/bias\n",
    "                continue\n",
    "            \n",
    "            weight_matrix = np.random.normal(size=(nodes_per_layer[i-1], nodes_per_layer[i]))\n",
    "            self.weights_.append(weight_matrix)\n",
    "            bias_vector = np.zeros(shape=(nodes_per_layer[i],))\n",
    "            self.biases_.append(bias_vector)\n",
    "    \n",
    "    def fit(self, Xs, Ys, epochs, lr=1e-3):\n",
    "        '''Trains the model on the given dataset for \"epoch\" number of itterations with step size=\"lr\". \n",
    "        Returns list containing loss for each epoch.'''\n",
    "        history = []\n",
    "        for epoch in tqdm_notebook(range(epochs)):\n",
    "            num_samples = Xs.shape[0]\n",
    "            for i in range(num_samples):\n",
    "                sample_input = Xs[i,:].reshape((1,self.input_shape))\n",
    "                sample_target = Ys[i,:].reshape((1,self.output_shape))\n",
    "                \n",
    "                activations = self.forward_pass(sample_input)\n",
    "                deltas = self.backward_pass(sample_target, activations)\n",
    "\n",
    "                layer_inputs = [sample_input] + activations[:-1]\n",
    "                self.weight_update(deltas, layer_inputs, lr)\n",
    "            \n",
    "            preds = self.predict(Xs)\n",
    "            if self.mode == 'regression':\n",
    "                current_loss = self.mean_squared_error(preds, Ys)\n",
    "            elif self.mode == 'classification':\n",
    "                current_loss = self.cross_entropy_loss(preds, Ys)\n",
    "            history.append(current_loss)\n",
    "        return history\n",
    "    \n",
    "    \n",
    "    def forward_pass(self, input_data):\n",
    "        '''Executes the feed forward algorithm.\n",
    "        \"input_data\" is the input to the network in row-major form\n",
    "        Returns \"activations\", which is a list of all layer outputs (excluding input layer of course)'''\n",
    "        activations = []\n",
    "        #TODO\n",
    "        mid=sigMid=outLayer = np.array([])\n",
    "        \n",
    "        mid=np.dot(input_data,self.weights_[0]) + self.biases_[0]\n",
    "#         print(\"Mid is: \",mid)\n",
    "        sigMid= self.sigmoid(mid)\n",
    "        \n",
    "        if(self.mode==\"classification\"):\n",
    "            outLayer= self.softmax(np.dot(sigMid,self.weights_[1]) + self.biases_[1])\n",
    "        elif(self.mode==\"regression\"):\n",
    "            outLayer= self.sigmoid(np.dot(sigMid,self.weights_[1]) + self.biases_[1])\n",
    "        else:\n",
    "            print(\"None of those. Think about this\")\n",
    "#         print(\"Zo: \",outLayer)\n",
    "#         activations[0]=sigMid\n",
    "#         activations[1]=outLayer\n",
    "        activations.append(sigMid)\n",
    "        activations.append(outLayer)\n",
    "#         print (\"Activation:\",activations)\n",
    "        \n",
    "        return activations\n",
    "    \n",
    "    def backward_pass(self, targets, layer_activations):\n",
    "        '''Executes the backpropogation algorithm.\n",
    "        \"targets\" is the ground truth/labels\n",
    "        \"layer_activations\" are the return value of the forward pass step\n",
    "        Returns \"deltas\", which is a list containing weight update values for all layers (excluding the input layer of course)'''\n",
    "        deltas = []\n",
    "        #TODO\n",
    "        dE=dSoftmax = hidDelta=hiddenError=inpDelta=dInpError=dSigmoid=np.array([])\n",
    "        \n",
    "        dE=layer_activations[1]-targets\n",
    "#         print(\"layer activations: \",layer_activations)\n",
    "        dSoftmax=np.multiply(layer_activations[1],(1-layer_activations[1]))\n",
    "#         print(\"softMax deriv is: \",dSoftmax)\n",
    "        if(self.mode==\"classification\"):\n",
    "            hidDelta=dE      \n",
    "        elif(self.mode==\"regression\"):\n",
    "            hidDelta=np.multiply(dE,dSoftmax)\n",
    "        else:\n",
    "            print(\"None of those. Think about this\")\n",
    "            \n",
    "#         print(\"out weights: \",self.weights_[1])\n",
    "        dInpError = (np.dot(self.weights_[1],hidDelta.T)).T\n",
    "#         print(\"inpError: \",dInpError)\n",
    "        dSigmoid= np.multiply(layer_activations[0],(1-layer_activations[0]))\n",
    "#         print(\"dsigmoid\", dSigmoid)\n",
    "        inpDelta=(np.multiply(dInpError,dSigmoid))\n",
    "#         print(\"inp deltas: \",inpDelta)\n",
    "        \n",
    "        deltas.append(inpDelta)\n",
    "        deltas.append(hidDelta)\n",
    "        \n",
    "        return deltas\n",
    "    \n",
    "    def weight_update(self, deltas, layer_inputs, lr):\n",
    "        '''Executes the gradient descent algorithm.\n",
    "        \"deltas\" is return value of the backward pass step\n",
    "        \"layer_inputs\" is a list containing the inputs for all layers (including the input layer)\n",
    "        \"lr\" is the learning rate'''\n",
    "        #TODO\n",
    "        dEhx=dEox=np.array([])\n",
    "        dEox=(np.dot((deltas[1].T),layer_inputs[1])).T\n",
    "#         print(\"dex: \",dEox)\n",
    "        dEhx=(np.dot((deltas[0].T),layer_inputs[0])).T\n",
    "        \n",
    "        \n",
    "        self.weights_[1]=self.weights_[1]- (lr*(dEox))\n",
    "        self.weights_[0]=self.weights_[0]- (lr*(dEhx))\n",
    "        self.biases_[1]=self.biases_[1]- lr*(deltas[1])\n",
    "        self.biases_[0]=self.biases_[0]- lr*(deltas[0])\n",
    "    \n",
    "    ## YOUR WORK ENDS HERE, LEAVE ALL FOLLOWING FUNCTIONS ALONE\n",
    "    \n",
    "    def predict(self, Xs):\n",
    "        '''Returns the model predictions (output of the last layer) for the given \"Xs\".'''\n",
    "        predictions = []\n",
    "        num_samples = Xs.shape[0]\n",
    "        for i in range(num_samples):\n",
    "            sample = Xs[i,:].reshape((1,self.input_shape))\n",
    "            sample_prediction = self.forward_pass(sample)[-1]\n",
    "            predictions.append(sample_prediction.reshape((self.output_shape,)))\n",
    "        return np.array(predictions)\n",
    "    \n",
    "    def evaluate(self, Xs, Ys):\n",
    "        '''Returns appropriate metrics for the task, calculated on the dataset passed to this method.'''\n",
    "        pred = self.predict(Xs)\n",
    "        if self.mode == 'regression':\n",
    "            return self.mean_squared_error(pred, Ys)\n",
    "        elif self.mode == 'classification':\n",
    "            return self.cross_entropy_loss(pred, Ys), self.accuracy(pred.argmax(axis=1), Ys.argmax(axis=1))\n",
    "    \n",
    "    def plot_model(self, filename):\n",
    "        '''Provide the \"filename\" as a string including file extension. Creates an image showing the model as a graph.'''\n",
    "        graph = pydot.Dot(graph_type='digraph')\n",
    "        graph.set_rankdir('LR')\n",
    "        graph.set_node_defaults(shape='circle', fontsize=0)\n",
    "        for i in range(self.num_layers-1):\n",
    "            for n1 in range(self.nodes_per_layer[i]):\n",
    "                for n2 in range(self.nodes_per_layer[i+1]):\n",
    "                    edge = pydot.Edge(f'l{i}n{n1}', f'l{i+1}n{n2}')\n",
    "                    graph.add_edge(edge)\n",
    "        graph.write_png(filename)"
   ]
  },
  {
   "cell_type": "code",
   "execution_count": 86,
   "metadata": {
    "hidden": true
   },
   "outputs": [
    {
     "data": {
      "image/png": "[encoded data removed]",
      "text/plain": [
       "<IPython.core.display.Image object>"
      ]
     },
     "execution_count": 86,
     "metadata": {},
     "output_type": "execute_result"
    }
   ],
   "source": [
    "nn = NeuralNetwork([2,3,2], 'classification')\n",
    "nn.plot_model('graph.png')\n",
    "Image('graph.png')"
   ]
  },
  {
   "cell_type": "code",
   "execution_count": 87,
   "metadata": {
    "hidden": true
   },
   "outputs": [
    {
     "name": "stdout",
     "output_type": "stream",
     "text": [
      "Tests properly initialized\n",
      "Forward pass is OK\n",
      "Backward pass is OK\n",
      "Weight update is OK\n"
     ]
    }
   ],
   "source": [
    "test_neural_network(NeuralNetwork, 'task3')"
   ]
  },
  {
   "cell_type": "markdown",
   "metadata": {
    "heading_collapsed": true
   },
   "source": [
    "## Task 4 (Grads only)"
   ]
  },
  {
   "cell_type": "markdown",
   "metadata": {
    "hidden": true
   },
   "source": [
    "You should copy your code (3 primary functions) from task3 as a starting point. You have to modify the forward and backward passes to use a different activation function; the Rectified Linear Unit (ReLu). You can look at the research papers or articles online for derivatives and other explanations. \n",
    "\n",
    "In this task you need to implement the activation function and its derivative yourself. You can use a separate function for derivative of activation function or include the expression in the derivative calculation. \n",
    "\n",
    "No automatic test cases are included for this task. You should use the dummy tasks and look at the trend of the loss plot."
   ]
  },
  {
   "cell_type": "code",
   "execution_count": 124,
   "metadata": {
    "hidden": true
   },
   "outputs": [],
   "source": [
    "\n",
    "\n",
    "class NeuralNetwork():\n",
    "    @staticmethod\n",
    "    def mean_squared_error(y_pred, y_true):\n",
    "        return np.mean((y_pred - y_true) ** 2)\n",
    "    \n",
    "    @staticmethod\n",
    "    def cross_entropy_loss(y_pred, y_true):\n",
    "        return -(y_true * np.log(y_pred)).sum()\n",
    "    \n",
    "    @staticmethod\n",
    "    def accuracy(y_pred, y_true):\n",
    "        return np.sum(y_pred == y_true)\n",
    "    \n",
    "    @staticmethod\n",
    "    def softmax(x):\n",
    "        expx = np.exp(x)\n",
    "        return expx / expx.sum(axis=1, keepdims=True)\n",
    "    \n",
    "    @staticmethod\n",
    "    def relu(x):\n",
    "        return 1 / (1 + np.exp(-x))\n",
    "    \n",
    "    def __init__(self, nodes_per_layer, mode):\n",
    "        '''Creates a Feed-Forward Neural Network.\n",
    "        \"nodes_per_layer\" is a list containing number of nodes in each layer (including input layer)\n",
    "        \"mode\" can be one of 'regression' or 'classification' and controls the output activation as well as training metric'''\n",
    "        if len(nodes_per_layer) < 2:\n",
    "            raise ValueError('Network must have atleast 2 layers (input and output).')\n",
    "        if not (np.array(nodes_per_layer) > 0).all():\n",
    "            raise ValueError('Number of nodes in all layers must be positive.')\n",
    "        if mode not in ['classification','regression']:\n",
    "            raise ValueError('Only \"classification\" and \"regression\" modes are supported.')\n",
    "        \n",
    "        self.num_layers = len(nodes_per_layer) # includes input layer\n",
    "        self.nodes_per_layer = nodes_per_layer\n",
    "        self.input_shape = nodes_per_layer[0]\n",
    "        self.output_shape = nodes_per_layer[-1]\n",
    "        self.mode = mode\n",
    "        \n",
    "        self.__init_weights(nodes_per_layer)\n",
    "    \n",
    "    def __init_weights(self, nodes_per_layer):\n",
    "        '''Initializes all weights based on standard normal distribution and all biases to 0.'''\n",
    "        self.weights_ = []\n",
    "        self.biases_ = []\n",
    "        for i,_ in enumerate(nodes_per_layer):\n",
    "            if i == 0:\n",
    "                # skip input layer, it does not have weights/bias\n",
    "                continue\n",
    "            \n",
    "            weight_matrix = np.random.normal(size=(nodes_per_layer[i-1], nodes_per_layer[i]))\n",
    "            self.weights_.append(weight_matrix)\n",
    "            bias_vector = np.zeros(shape=(nodes_per_layer[i],))\n",
    "            self.biases_.append(bias_vector)\n",
    "    \n",
    "    def fit(self, Xs, Ys, epochs, lr=1e-3):\n",
    "        '''Trains the model on the given dataset for \"epoch\" number of itterations with step size=\"lr\". \n",
    "        Returns list containing loss for each epoch.'''\n",
    "        history = []\n",
    "        for epoch in tqdm_notebook(range(epochs)):\n",
    "            num_samples = Xs.shape[0]\n",
    "            for i in range(num_samples):\n",
    "                sample_input = Xs[i,:].reshape((1,self.input_shape))\n",
    "                sample_target = Ys[i,:].reshape((1,self.output_shape))\n",
    "                \n",
    "                activations = self.forward_pass(sample_input)\n",
    "                deltas = self.backward_pass(sample_target, activations)\n",
    "\n",
    "                layer_inputs = [sample_input] + activations[:-1]\n",
    "                self.weight_update(deltas, layer_inputs, lr)\n",
    "            \n",
    "            preds = self.predict(Xs)\n",
    "            if self.mode == 'regression':\n",
    "                current_loss = self.mean_squared_error(preds, Ys)\n",
    "            elif self.mode == 'classification':\n",
    "                current_loss = self.cross_entropy_loss(preds, Ys)\n",
    "            history.append(current_loss)\n",
    "        return history\n",
    "    \n",
    "    \n",
    "    def forward_pass(self, input_data):\n",
    "        '''Executes the feed forward algorithm.\n",
    "        \"input_data\" is the input to the network in row-major form\n",
    "        Returns \"activations\", which is a list of all layer outputs (excluding input layer of course)'''\n",
    "        activations = []\n",
    "        #TODO\n",
    "        return activations\n",
    "    \n",
    "    def backward_pass(self, targets, layer_activations):\n",
    "        '''Executes the backpropogation algorithm.\n",
    "        \"targets\" is the ground truth/labels\n",
    "        \"layer_activations\" are the return value of the forward pass step\n",
    "        Returns \"deltas\", which is a list containing weight update values for all layers (excluding the input layer of course)'''\n",
    "        deltas = []\n",
    "        #TODO\n",
    "        return deltas\n",
    "    \n",
    "    def weight_update(self, deltas, layer_inputs, lr):\n",
    "        '''Executes the gradient descent algorithm.\n",
    "        \"deltas\" is return value of the backward pass step\n",
    "        \"layer_inputs\" is a list containing the inputs for all layers (including the input layer)\n",
    "        \"lr\" is the learning rate'''\n",
    "        #TODO\n",
    "    \n",
    "    \n",
    "    def predict(self, Xs):\n",
    "        '''Returns the model predictions (output of the last layer) for the given \"Xs\".'''\n",
    "        predictions = []\n",
    "        num_samples = Xs.shape[0]\n",
    "        for i in range(num_samples):\n",
    "            sample = Xs[i,:].reshape((1,self.input_shape))\n",
    "            sample_prediction = self.forward_pass(sample)[-1]\n",
    "            predictions.append(sample_prediction.reshape((self.output_shape,)))\n",
    "        return np.array(predictions)\n",
    "    \n",
    "    def evaluate(self, Xs, Ys):\n",
    "        '''Returns appropriate metrics for the task, calculated on the dataset passed to this method.'''\n",
    "        pred = self.predict(Xs)\n",
    "        if self.mode == 'regression':\n",
    "            return self.mean_squared_error(pred, Ys)\n",
    "        elif self.mode == 'classification':\n",
    "            return self.cross_entropy_loss(pred, Ys), self.accuracy(pred.argmax(axis=1), Ys.argmax(axis=1))\n",
    "    \n",
    "    def plot_model(self, filename):\n",
    "        '''Provide the \"filename\" as a string including file extension. Creates an image showing the model as a graph.'''\n",
    "        graph = pydot.Dot(graph_type='digraph')\n",
    "        graph.set_rankdir('LR')\n",
    "        graph.set_node_defaults(shape='circle', fontsize=0)\n",
    "        for i in range(self.num_layers-1):\n",
    "            for n1 in range(self.nodes_per_layer[i]):\n",
    "                for n2 in range(self.nodes_per_layer[i+1]):\n",
    "                    edge = pydot.Edge(f'l{i}n{n1}', f'l{i+1}n{n2}')\n",
    "                    graph.add_edge(edge)\n",
    "        graph.write_png(filename)"
   ]
  },
  {
   "cell_type": "code",
   "execution_count": 125,
   "metadata": {
    "hidden": true
   },
   "outputs": [
    {
     "data": {
      "image/png": "[encoded data removed]",
      "text/plain": [
       "<IPython.core.display.Image object>"
      ]
     },
     "execution_count": 125,
     "metadata": {},
     "output_type": "execute_result"
    }
   ],
   "source": [
    "nn = NeuralNetwork([2,3,2], 'classification')\n",
    "nn.plot_model('graph.png')\n",
    "Image('graph.png')"
   ]
  },
  {
   "cell_type": "markdown",
   "metadata": {
    "heading_collapsed": true
   },
   "source": [
    "## Task 5 (Bonus for both grads and undergrads)"
   ]
  },
  {
   "cell_type": "markdown",
   "metadata": {
    "hidden": true
   },
   "source": [
    "Again, if it helps copy only your code from Task3 as a starting point in the next cell. To cap off this assignment you will fully vectorize your implementation. This means changing the primary functions again. You will be provided a handout on LMS soon with the equations and we will discuss implementation of vectorized operations in relative detail in this Friday's (01-02-19) Tutorial.\n",
    "\n",
    "After you do this, the runtime of the `fit` function will just be $O(e)$ (again, assuming all functions called in the loop take constant time)."
   ]
  },
  {
   "cell_type": "code",
   "execution_count": 57,
   "metadata": {
    "ExecuteTime": {
     "end_time": "2019-01-27T01:30:16.547173Z",
     "start_time": "2019-01-27T01:30:16.441918Z"
    },
    "hidden": true
   },
   "outputs": [],
   "source": [
    "class NeuralNetwork():\n",
    "    @staticmethod\n",
    "    def mean_squared_error(y_pred, y_true):\n",
    "        return np.mean((y_pred - y_true) ** 2)\n",
    "    \n",
    "    @staticmethod\n",
    "    def cross_entropy_loss(y_pred, y_true):\n",
    "        return -(y_true * np.log(y_pred)).sum()\n",
    "    \n",
    "    @staticmethod\n",
    "    def accuracy(y_pred, y_true):\n",
    "        return np.sum(y_pred == y_true)\n",
    "    \n",
    "    @staticmethod\n",
    "    def softmax(x):\n",
    "        expx = np.exp(x)\n",
    "        return expx / expx.sum(axis=1, keepdims=True)\n",
    "    \n",
    "    @staticmethod\n",
    "    def sigmoid(x):\n",
    "        return 1 / (1 + np.exp(-x))\n",
    "    \n",
    "    def __init__(self, nodes_per_layer, mode):\n",
    "        '''Creates a Feed-Forward Neural Network.\n",
    "        \"nodes_per_layer\" is a list containing number of nodes in each layer (including input layer)\n",
    "        \"mode\" can be one of 'regression' or 'classification' and controls the output activation as well as training metric'''\n",
    "        if len(nodes_per_layer) < 2:\n",
    "            raise ValueError('Network must have atleast 2 layers (input and output).')\n",
    "        if not (np.array(nodes_per_layer) > 0).all():\n",
    "            raise ValueError('Number of nodes in all layers must be positive.')\n",
    "        if mode not in ['classification','regression']:\n",
    "            raise ValueError('Only \"classification\" and \"regression\" modes are supported.')\n",
    "        \n",
    "        self.num_layers = len(nodes_per_layer) # includes input layer\n",
    "        self.nodes_per_layer = nodes_per_layer\n",
    "        self.input_shape = nodes_per_layer[0]\n",
    "        self.output_shape = nodes_per_layer[-1]\n",
    "        self.mode = mode\n",
    "        \n",
    "        self.__init_weights(nodes_per_layer)\n",
    "    \n",
    "    def __init_weights(self, nodes_per_layer):\n",
    "        '''Initializes all weights based on standard normal distribution and all biases to 0.'''\n",
    "        self.weights_ = []\n",
    "        self.biases_ = []\n",
    "        for i,_ in enumerate(nodes_per_layer):\n",
    "            if i == 0:\n",
    "                # skip input layer, it does not have weights/bias\n",
    "                continue\n",
    "            \n",
    "            weight_matrix = np.random.normal(size=(nodes_per_layer[i-1], nodes_per_layer[i]))\n",
    "            self.weights_.append(weight_matrix)\n",
    "            bias_vector = np.zeros(shape=(nodes_per_layer[i],))\n",
    "            self.biases_.append(bias_vector)\n",
    "    \n",
    "    \n",
    "    def fit(self, Xs, Ys, epochs, lr=1e-3):\n",
    "        '''Trains the model on the given dataset for \"epoch\" number of itterations with step size=\"lr\". \n",
    "        Returns list containing loss for each epoch.'''\n",
    "        history = []\n",
    "        for epoch in tqdm_notebook(range(epochs)):\n",
    "            # TODO\n",
    "#             num_samples = Xs.shape[0]\n",
    "#             for i in range(num_samples):\n",
    "#             print(\"sample input is: \",sample_input)\n",
    "            sample_input = Xs.reshape((1,self.input_shape))\n",
    "            sample_target = Ys.reshape((1,self.output_shape))\n",
    "                \n",
    "            activations = self.forward_pass(sample_input)\n",
    "            deltas = self.backward_pass(sample_target, activations)\n",
    "\n",
    "            layer_inputs = [sample_input] + activations\n",
    "            self.weight_update(deltas, layer_inputs, lr)\n",
    "            \n",
    "            preds = self.predict(Xs)\n",
    "            if self.mode == 'regression':\n",
    "                current_loss = self.mean_squared_error(preds, Ys)\n",
    "            elif self.mode == 'classification':\n",
    "                current_loss = self.cross_entropy_loss(preds, Ys)\n",
    "            history.append(current_loss)\n",
    "            \n",
    "            \n",
    "            \n",
    "        return history\n",
    "    \n",
    "    def forward_pass(self, input_data):\n",
    "        '''Executes the feed forward algorithm.\n",
    "        \"input_data\" is the input to the network in row-major form\n",
    "        Returns \"activations\", which is a list of all layer outputs (excluding input layer of course)'''\n",
    "        activations = []\n",
    "        #TODO\n",
    "        mid=sigMid=outLayer = np.array([])\n",
    "#         print(\"input data: \",input_data)\n",
    "#         print(\"ino bias: \", self.biases_)\n",
    "#         print(\"self.weights: \",self.weights_[1].shape)\n",
    "#         print(\"output shape: \", self.output_shape)\n",
    "        mid=np.dot(input_data,self.weights_[0]) + self.biases_[0]\n",
    "#         print(\"Mid is: \",mid)\n",
    "        sigMid= self.sigmoid(mid)\n",
    "        \n",
    "#         print(\"sigMid is: \",sigMid)\n",
    "        if(self.mode==\"classification\"):\n",
    "            outLayer= self.softmax(np.dot(sigMid,self.weights_[1]) + self.biases_[1])\n",
    "        elif(self.mode==\"regression\"):\n",
    "            outLayer= self.sigmoid(np.dot(sigMid,self.weights_[1]) + self.biases_[1])\n",
    "        else:\n",
    "            print(\"None of those. Think about this\")\n",
    "#         print(\"Zo: \",outLayer)\n",
    "#         activations[0]=sigMid\n",
    "#         activations[1]=outLayer\n",
    "        activations.append(sigMid)\n",
    "        activations.append(outLayer)\n",
    "#         print (\"Activation:\",activations)\n",
    "        \n",
    "        return activations\n",
    "    \n",
    "    def backward_pass(self, targets, layer_activations):\n",
    "        '''Executes the backpropogation algorithm.\n",
    "        \"targets\" is the ground truth/labels\n",
    "        \"layer_activations\" are the return value of the forward pass step\n",
    "        Returns \"deltas\", which is a list containing weight update values for all layers (excluding the input layer of course)'''\n",
    "        deltas = []\n",
    "        #TODO\n",
    "        dE=dSoftmax = hidDelta=hiddenError=inpDelta=dInpError=dSigmoid=np.array([])\n",
    "        \n",
    "        dE=layer_activations[1]-targets\n",
    "#         print(\"DE is: \",dE)\n",
    "#         print(\"layer activations: \",layer_activations)\n",
    "#         print(\"1-act: \",1-layer_activations[1])\n",
    "        dSoftmax=np.multiply(layer_activations[1],(1-layer_activations[1]))\n",
    "#         print(\"softMax deriv is: \",dSoftmax)\n",
    "        if(self.mode==\"classification\"):\n",
    "            hidDelta=dE      \n",
    "        elif(self.mode==\"regression\"):\n",
    "            hidDelta=np.multiply(dE,dSoftmax)\n",
    "        else:\n",
    "            print(\"None of those. Think about this\")\n",
    "#         print(\"Hid delta: \",hidDelta)\n",
    "#         hidDelta=dE      #wtf man literally\n",
    "        \n",
    "#         hidDelta=np.dot(layer_activations[0].T,np.multiply(dE,dSoftmax))\n",
    "#         print(\"Hdelta is T : \", hidDelta.T)\n",
    "#         print(\"out weights: \",self.weights_[1])\n",
    "        dInpError = (np.dot(self.weights_[1],hidDelta.T)).T\n",
    "#         print(\"inpError: \",dInpError)\n",
    "        dSigmoid= np.multiply(layer_activations[0],(1-layer_activations[0]))\n",
    "#         print(\"dsigmoid\", dSigmoid)\n",
    "        inpDelta=(np.multiply(dInpError,dSigmoid))\n",
    "#         print(\"inp deltas: \",inpDelta)\n",
    "        \n",
    "        deltas.append(inpDelta)\n",
    "        deltas.append(hidDelta)\n",
    "       \n",
    "        return deltas\n",
    "\n",
    "    def weight_update(self, deltas, layer_inputs, lr):\n",
    "        '''Executes the gradient descent algorithm.\n",
    "        \"deltas\" is return value of the backward pass step\n",
    "        \"layer_inputs\" is a list containing the inputs for all layers (including the input layer)\n",
    "        \"lr\" is the learning rate'''\n",
    "        #TODO\n",
    "        dEhx=dEox=np.array([])\n",
    "        dEox=(np.dot((deltas[1].T),layer_inputs[1])).T\n",
    "#         print(\"dex: \",dEox)\n",
    "        dEhx=(np.dot((deltas[0].T),layer_inputs[0])).T\n",
    "    \n",
    "        self.weights_[1]=self.weights_[1]- (lr*(dEox))\n",
    "        self.weights_[0]=self.weights_[0]- (lr*(dEhx))\n",
    "#         print(\"self.biases 0-1: \",self.biases_[0],\" \", self.biases_[1])\n",
    "        self.biases_[1]=self.biases_[1]- lr*(deltas[1])\n",
    "        self.biases_[0]=self.biases_[0]- lr*(deltas[0])\n",
    "#         print(\"self.biases 1: \", self.biases_[1])\n",
    "        \n",
    "        \n",
    "    def predict(self, Xs):\n",
    "        '''Returns the model predictions (output of the last layer) for the given \"Xs\".'''\n",
    "        return self.forward_pass(Xs)[-1]\n",
    "    \n",
    "    def evaluate(self, Xs, Ys):\n",
    "        '''Returns appropriate metrics for the task, calculated on the dataset passed to this method.'''\n",
    "        pred = self.predict(Xs)\n",
    "        if self.mode == 'regression':\n",
    "            return self.mean_squared_error(pred, Ys)\n",
    "        elif self.mode == 'classification':\n",
    "            return self.cross_entropy_loss(pred, Ys), self.accuracy(pred.argmax(axis=1), Ys.argmax(axis=1))\n",
    "    \n",
    "    def plot_model(self, filename):\n",
    "        '''Provide the \"filename\" as a string including file extension. Creates an image showing the model as a graph.'''\n",
    "        graph = pydot.Dot(graph_type='digraph')\n",
    "        graph.set_rankdir('LR')\n",
    "        graph.set_node_defaults(shape='circle', fontsize=0)\n",
    "        for i in range(self.num_layers-1):\n",
    "            for n1 in range(self.nodes_per_layer[i]):\n",
    "                for n2 in range(self.nodes_per_layer[i+1]):\n",
    "                    edge = pydot.Edge(f'l{i}n{n1}', f'l{i+1}n{n2}')\n",
    "                    graph.add_edge(edge)\n",
    "        graph.write_png(filename)"
   ]
  },
  {
   "cell_type": "code",
   "execution_count": 58,
   "metadata": {
    "hidden": true
   },
   "outputs": [
    {
     "data": {
      "image/png": "[encoded data removed]",
      "text/plain": [
       "<IPython.core.display.Image object>"
      ]
     },
     "execution_count": 58,
     "metadata": {},
     "output_type": "execute_result"
    }
   ],
   "source": [
    "nn = NeuralNetwork([2,3,1], 'classification')\n",
    "nn.plot_model('graph.png')\n",
    "Image('graph.png')"
   ]
  },
  {
   "cell_type": "code",
   "execution_count": 59,
   "metadata": {
    "hidden": true
   },
   "outputs": [
    {
     "name": "stdout",
     "output_type": "stream",
     "text": [
      "Tests properly initialized\n",
      "Forward pass is OK\n",
      "Backward pass is OK\n"
     ]
    },
    {
     "ename": "AssertionError",
     "evalue": "",
     "output_type": "error",
     "traceback": [
      "\u001b[0;31m---------------------------------------------------------------------------\u001b[0m",
      "\u001b[0;31mAssertionError\u001b[0m                            Traceback (most recent call last)",
      "\u001b[0;32m<ipython-input-59-0ae11fb4a6b1>\u001b[0m in \u001b[0;36m<module>\u001b[0;34m\u001b[0m\n\u001b[0;32m----> 1\u001b[0;31m \u001b[0mtest_neural_network\u001b[0m\u001b[0;34m(\u001b[0m\u001b[0mNeuralNetwork\u001b[0m\u001b[0;34m,\u001b[0m \u001b[0;34m'task5'\u001b[0m\u001b[0;34m)\u001b[0m\u001b[0;34m\u001b[0m\u001b[0;34m\u001b[0m\u001b[0m\n\u001b[0m",
      "\u001b[0;32m~/Documents/8thSem/DeepLearning/Assign-1/class_tests.py\u001b[0m in \u001b[0;36mtest_neural_network\u001b[0;34m(cls, task)\u001b[0m\n\u001b[1;32m    240\u001b[0m         \u001b[0mnn\u001b[0m\u001b[0;34m.\u001b[0m\u001b[0mweight_update\u001b[0m\u001b[0;34m(\u001b[0m\u001b[0mdeltas\u001b[0m\u001b[0;34m,\u001b[0m \u001b[0mlayer_inputs\u001b[0m\u001b[0;34m,\u001b[0m \u001b[0mlr\u001b[0m\u001b[0;34m)\u001b[0m\u001b[0;34m\u001b[0m\u001b[0;34m\u001b[0m\u001b[0m\n\u001b[1;32m    241\u001b[0m         \u001b[0;32massert\u001b[0m\u001b[0;34m(\u001b[0m\u001b[0mmatch_lists\u001b[0m\u001b[0;34m(\u001b[0m\u001b[0mnn\u001b[0m\u001b[0;34m.\u001b[0m\u001b[0mweights_\u001b[0m\u001b[0;34m,\u001b[0m \u001b[0mtask5_weights\u001b[0m\u001b[0;34m)\u001b[0m\u001b[0;34m)\u001b[0m\u001b[0;34m\u001b[0m\u001b[0;34m\u001b[0m\u001b[0m\n\u001b[0;32m--> 242\u001b[0;31m         \u001b[0;32massert\u001b[0m\u001b[0;34m(\u001b[0m\u001b[0mmatch_lists\u001b[0m\u001b[0;34m(\u001b[0m\u001b[0mnn\u001b[0m\u001b[0;34m.\u001b[0m\u001b[0mbiases_\u001b[0m\u001b[0;34m,\u001b[0m \u001b[0mtask5_biases\u001b[0m\u001b[0;34m)\u001b[0m\u001b[0;34m)\u001b[0m\u001b[0;34m\u001b[0m\u001b[0;34m\u001b[0m\u001b[0m\n\u001b[0m\u001b[1;32m    243\u001b[0m         \u001b[0mprint\u001b[0m\u001b[0;34m(\u001b[0m\u001b[0;34m'Weight update is OK'\u001b[0m\u001b[0;34m)\u001b[0m\u001b[0;34m\u001b[0m\u001b[0;34m\u001b[0m\u001b[0m\n\u001b[1;32m    244\u001b[0m     \u001b[0;32melse\u001b[0m\u001b[0;34m:\u001b[0m\u001b[0;34m\u001b[0m\u001b[0;34m\u001b[0m\u001b[0m\n",
      "\u001b[0;31mAssertionError\u001b[0m: "
     ]
    }
   ],
   "source": [
    "test_neural_network(NeuralNetwork, 'task5')"
   ]
  },
  {
   "cell_type": "markdown",
   "metadata": {
    "heading_collapsed": true
   },
   "source": [
    "## Dummy Regression Task"
   ]
  },
  {
   "cell_type": "code",
   "execution_count": 91,
   "metadata": {
    "ExecuteTime": {
     "end_time": "2019-01-27T01:33:04.290893Z",
     "start_time": "2019-01-27T01:33:03.930796Z"
    },
    "hidden": true
   },
   "outputs": [
    {
     "name": "stdout",
     "output_type": "stream",
     "text": [
      "(150, 3)\n"
     ]
    },
    {
     "data": {
      "text/html": [
       "<div>\n",
       "<style scoped>\n",
       "    .dataframe tbody tr th:only-of-type {\n",
       "        vertical-align: middle;\n",
       "    }\n",
       "\n",
       "    .dataframe tbody tr th {\n",
       "        vertical-align: top;\n",
       "    }\n",
       "\n",
       "    .dataframe thead th {\n",
       "        text-align: right;\n",
       "    }\n",
       "</style>\n",
       "<table border=\"1\" class=\"dataframe\">\n",
       "  <thead>\n",
       "    <tr style=\"text-align: right;\">\n",
       "      <th></th>\n",
       "      <th>var1</th>\n",
       "      <th>var2</th>\n",
       "      <th>output</th>\n",
       "    </tr>\n",
       "  </thead>\n",
       "  <tbody>\n",
       "    <tr>\n",
       "      <th>0</th>\n",
       "      <td>0.194085</td>\n",
       "      <td>0.306708</td>\n",
       "      <td>0.500793</td>\n",
       "    </tr>\n",
       "    <tr>\n",
       "      <th>1</th>\n",
       "      <td>0.321644</td>\n",
       "      <td>0.209122</td>\n",
       "      <td>0.530766</td>\n",
       "    </tr>\n",
       "    <tr>\n",
       "      <th>2</th>\n",
       "      <td>0.229126</td>\n",
       "      <td>0.466364</td>\n",
       "      <td>0.695491</td>\n",
       "    </tr>\n",
       "    <tr>\n",
       "      <th>3</th>\n",
       "      <td>0.272808</td>\n",
       "      <td>0.433032</td>\n",
       "      <td>0.705840</td>\n",
       "    </tr>\n",
       "    <tr>\n",
       "      <th>4</th>\n",
       "      <td>0.470732</td>\n",
       "      <td>0.022609</td>\n",
       "      <td>0.493342</td>\n",
       "    </tr>\n",
       "  </tbody>\n",
       "</table>\n",
       "</div>"
      ],
      "text/plain": [
       "       var1      var2    output\n",
       "0  0.194085  0.306708  0.500793\n",
       "1  0.321644  0.209122  0.530766\n",
       "2  0.229126  0.466364  0.695491\n",
       "3  0.272808  0.433032  0.705840\n",
       "4  0.470732  0.022609  0.493342"
      ]
     },
     "execution_count": 91,
     "metadata": {},
     "output_type": "execute_result"
    }
   ],
   "source": [
    "a = np.random.uniform(low=0.0, high=0.5, size=(150,))\n",
    "b = np.random.uniform(low=0.0, high=0.5, size=(150,))\n",
    "dataset = pd.DataFrame({\n",
    "    'var1':   a,\n",
    "    'var2':   b,\n",
    "    'output': a+b,\n",
    "})\n",
    "print(dataset.shape)\n",
    "dataset.head()"
   ]
  },
  {
   "cell_type": "code",
   "execution_count": 92,
   "metadata": {
    "ExecuteTime": {
     "end_time": "2019-01-27T01:33:44.580767Z",
     "start_time": "2019-01-27T01:33:44.565440Z"
    },
    "hidden": true
   },
   "outputs": [
    {
     "data": {
      "image/png": "[encoded data removed]",
      "text/plain": [
       "<IPython.core.display.Image object>"
      ]
     },
     "execution_count": 92,
     "metadata": {},
     "output_type": "execute_result"
    }
   ],
   "source": [
    "nn = NeuralNetwork([2,10,1], 'regression')\n",
    "nn.plot_model('graph.png')\n",
    "Image('graph.png')"
   ]
  },
  {
   "cell_type": "code",
   "execution_count": 93,
   "metadata": {
    "ExecuteTime": {
     "end_time": "2019-01-30T14:39:43.311192Z",
     "start_time": "2019-01-30T14:39:41.481315Z"
    },
    "hidden": true
   },
   "outputs": [
    {
     "data": {
      "application/vnd.jupyter.widget-view+json": {
       "model_id": "13e1e9263e7e4834aaca6779104915c3",
       "version_major": 2,
       "version_minor": 0
      },
      "text/plain": [
       "HBox(children=(IntProgress(value=0, max=2000), HTML(value='')))"
      ]
     },
     "metadata": {},
     "output_type": "display_data"
    },
    {
     "name": "stdout",
     "output_type": "stream",
     "text": [
      "\n"
     ]
    },
    {
     "data": {
      "image/png": "[encoded data removed]",
      "text/plain": [
       "<Figure size 576x396 with 1 Axes>"
      ]
     },
     "metadata": {},
     "output_type": "display_data"
    }
   ],
   "source": [
    "history = nn.fit(dataset[['var1','var2']].values, dataset[['output']].values, epochs=2000, lr=0.001)\n",
    "plt.plot(history);\n",
    "plt.gca().set(xlabel='Epoch', ylabel='MSE', title='Training Plot {}'.format(rollnumber));"
   ]
  },
  {
   "cell_type": "code",
   "execution_count": 94,
   "metadata": {
    "ExecuteTime": {
     "end_time": "2019-01-27T01:33:49.920877Z",
     "start_time": "2019-01-27T01:33:49.860922Z"
    },
    "hidden": true
   },
   "outputs": [
    {
     "data": {
      "text/plain": [
       "array([[0.56280118],\n",
       "       [0.47202034]])"
      ]
     },
     "execution_count": 94,
     "metadata": {},
     "output_type": "execute_result"
    }
   ],
   "source": [
    "test_data = np.array([[0.4,0.1],\n",
    "                      [0.2,0.3]])\n",
    "nn.predict(test_data)"
   ]
  },
  {
   "cell_type": "markdown",
   "metadata": {
    "heading_collapsed": true
   },
   "source": [
    "## Dummy Classification Task"
   ]
  },
  {
   "cell_type": "code",
   "execution_count": 28,
   "metadata": {
    "ExecuteTime": {
     "end_time": "2019-01-27T01:33:56.370640Z",
     "start_time": "2019-01-27T01:33:56.320595Z"
    },
    "hidden": true
   },
   "outputs": [
    {
     "name": "stdout",
     "output_type": "stream",
     "text": [
      "(4, 5)\n"
     ]
    },
    {
     "data": {
      "text/html": [
       "<div>\n",
       "<style scoped>\n",
       "    .dataframe tbody tr th:only-of-type {\n",
       "        vertical-align: middle;\n",
       "    }\n",
       "\n",
       "    .dataframe tbody tr th {\n",
       "        vertical-align: top;\n",
       "    }\n",
       "\n",
       "    .dataframe thead th {\n",
       "        text-align: right;\n",
       "    }\n",
       "</style>\n",
       "<table border=\"1\" class=\"dataframe\">\n",
       "  <thead>\n",
       "    <tr style=\"text-align: right;\">\n",
       "      <th></th>\n",
       "      <th>var1</th>\n",
       "      <th>var2</th>\n",
       "      <th>output_0</th>\n",
       "      <th>output_1</th>\n",
       "      <th>output</th>\n",
       "    </tr>\n",
       "  </thead>\n",
       "  <tbody>\n",
       "    <tr>\n",
       "      <th>0</th>\n",
       "      <td>0</td>\n",
       "      <td>0</td>\n",
       "      <td>1</td>\n",
       "      <td>0</td>\n",
       "      <td>0</td>\n",
       "    </tr>\n",
       "    <tr>\n",
       "      <th>1</th>\n",
       "      <td>0</td>\n",
       "      <td>1</td>\n",
       "      <td>0</td>\n",
       "      <td>1</td>\n",
       "      <td>1</td>\n",
       "    </tr>\n",
       "    <tr>\n",
       "      <th>2</th>\n",
       "      <td>1</td>\n",
       "      <td>0</td>\n",
       "      <td>0</td>\n",
       "      <td>1</td>\n",
       "      <td>1</td>\n",
       "    </tr>\n",
       "    <tr>\n",
       "      <th>3</th>\n",
       "      <td>1</td>\n",
       "      <td>1</td>\n",
       "      <td>1</td>\n",
       "      <td>0</td>\n",
       "      <td>0</td>\n",
       "    </tr>\n",
       "  </tbody>\n",
       "</table>\n",
       "</div>"
      ],
      "text/plain": [
       "   var1  var2  output_0  output_1  output\n",
       "0     0     0         1         0       0\n",
       "1     0     1         0         1       1\n",
       "2     1     0         0         1       1\n",
       "3     1     1         1         0       0"
      ]
     },
     "execution_count": 28,
     "metadata": {},
     "output_type": "execute_result"
    }
   ],
   "source": [
    "# XOR logic operator\n",
    "dataset = pd.DataFrame({\n",
    "    'var1':   [0, 0, 1, 1],\n",
    "    'var2':   [0, 1, 0, 1],\n",
    "    'output': [0, 1, 1, 0],\n",
    "})\n",
    "dataset = pd.get_dummies(dataset, columns=['output'])\n",
    "dataset['output'] = pd.Series([0, 1, 1, 0])\n",
    "print(dataset.shape)\n",
    "dataset.head()\n",
    "# The columns 'output_0' and 'output_1' are one-hot encoded representation of the categorical column 'output'"
   ]
  },
  {
   "cell_type": "code",
   "execution_count": 29,
   "metadata": {
    "ExecuteTime": {
     "end_time": "2019-01-27T01:33:57.600944Z",
     "start_time": "2019-01-27T01:33:57.580951Z"
    },
    "hidden": true
   },
   "outputs": [],
   "source": [
    "nn = NeuralNetwork([2,5,2], 'classification')\n",
    "# nn.plot_model('graph.png')\n",
    "# Image('graph.png')"
   ]
  },
  {
   "cell_type": "code",
   "execution_count": 30,
   "metadata": {
    "ExecuteTime": {
     "end_time": "2019-01-27T01:34:01.160593Z",
     "start_time": "2019-01-27T01:33:59.950512Z"
    },
    "hidden": true
   },
   "outputs": [
    {
     "data": {
      "application/vnd.jupyter.widget-view+json": {
       "model_id": "a58a48c0e9f8458ea10a1c73ca933afc",
       "version_major": 2,
       "version_minor": 0
      },
      "text/plain": [
       "HBox(children=(IntProgress(value=0, max=3000), HTML(value='')))"
      ]
     },
     "metadata": {},
     "output_type": "display_data"
    },
    {
     "name": "stdout",
     "output_type": "stream",
     "text": [
      "\n"
     ]
    },
    {
     "data": {
      "image/png": "[encoded data removed]",
      "text/plain": [
       "<Figure size 432x288 with 1 Axes>"
      ]
     },
     "metadata": {
      "needs_background": "light"
     },
     "output_type": "display_data"
    }
   ],
   "source": [
    "history = nn.fit(dataset[['var1','var2']].values, dataset[['output_0','output_1']].values, epochs=3000, lr=0.01)\n",
    "plt.plot(history);\n",
    "plt.gca().set(xlabel='Epoch', ylabel='Cross-entropy', title='Training Plot {}'.format(rollnumber));"
   ]
  },
  {
   "cell_type": "code",
   "execution_count": 31,
   "metadata": {
    "ExecuteTime": {
     "end_time": "2019-01-27T01:34:03.210522Z",
     "start_time": "2019-01-27T01:34:03.190866Z"
    },
    "hidden": true
   },
   "outputs": [
    {
     "data": {
      "text/plain": [
       "array([ True,  True,  True,  True])"
      ]
     },
     "execution_count": 31,
     "metadata": {},
     "output_type": "execute_result"
    }
   ],
   "source": [
    "nn.predict(dataset[['var1','var2']].values).argmax(axis=1) == dataset[['output_0','output_1']].values.argmax(axis=1)"
   ]
  },
  {
   "cell_type": "markdown",
   "metadata": {
    "heading_collapsed": true
   },
   "source": [
    "## Regression Demo"
   ]
  },
  {
   "cell_type": "markdown",
   "metadata": {
    "hidden": true
   },
   "source": [
    "Code for Demos adapted from tutorial 1, refer to it if you need a refresher (available on LMS)"
   ]
  },
  {
   "cell_type": "code",
   "execution_count": 34,
   "metadata": {
    "ExecuteTime": {
     "end_time": "2019-01-27T01:34:17.130755Z",
     "start_time": "2019-01-27T01:34:16.900688Z"
    },
    "hidden": true
   },
   "outputs": [
    {
     "data": {
      "image/png": "[encoded data removed]",
      "text/plain": [
       "<Figure size 432x288 with 1 Axes>"
      ]
     },
     "metadata": {
      "needs_background": "light"
     },
     "output_type": "display_data"
    }
   ],
   "source": [
    "data_x, _ = make_moons(200, noise=0.18)\n",
    "plt.scatter(data_x[:,0], data_x[:,1]);"
   ]
  },
  {
   "cell_type": "code",
   "execution_count": 35,
   "metadata": {
    "ExecuteTime": {
     "end_time": "2019-01-27T01:34:20.010456Z",
     "start_time": "2019-01-27T01:34:19.400302Z"
    },
    "hidden": true
   },
   "outputs": [],
   "source": [
    "reg = LinearRegression()\n",
    "reg = reg.fit(data_x[:,0].reshape((200,1)), data_x[:,1].reshape((200,1)));\n",
    "\n",
    "d = np.arange(-1.5, 2.5, 0.1).reshape((40,1))\n",
    "preds = reg.predict(d)"
   ]
  },
  {
   "cell_type": "code",
   "execution_count": 36,
   "metadata": {
    "ExecuteTime": {
     "end_time": "2019-01-27T01:34:22.270599Z",
     "start_time": "2019-01-27T01:34:21.920681Z"
    },
    "hidden": true
   },
   "outputs": [
    {
     "data": {
      "image/png": "[encoded data removed]",
      "text/plain": [
       "<Figure size 432x288 with 1 Axes>"
      ]
     },
     "metadata": {
      "needs_background": "light"
     },
     "output_type": "display_data"
    }
   ],
   "source": [
    "fig, ax = plt.subplots()\n",
    "ax.scatter(data_x[:,0].reshape((200,1)), data_x[:,1].reshape((200,1)));\n",
    "ax.plot(d.flatten(), preds.flatten(), c='tab:red', label='Prediction');\n",
    "ax.set(xlabel='Input Feature', ylabel='Target Variable', title='Linear Regression {}'.format(rollnumber));\n",
    "ax.legend();"
   ]
  },
  {
   "cell_type": "code",
   "execution_count": null,
   "metadata": {
    "ExecuteTime": {
     "end_time": "2019-01-27T01:34:56.080312Z",
     "start_time": "2019-01-27T01:34:23.960235Z"
    },
    "hidden": true
   },
   "outputs": [],
   "source": [
    "nn = NeuralNetwork([1,10,20,10,1], 'regression')\n",
    "history = nn.fit(data_x[:,0].reshape((200,1)), data_x[:,1].reshape((200,1)), epochs=20000, lr=1e-4)\n",
    "preds = nn.predict(d)\n",
    "plt.plot(history);\n",
    "plt.gca().set(xlabel='Epoch', ylabel='MSE', title='Training Plot {}'.format(rollnumber));"
   ]
  },
  {
   "cell_type": "code",
   "execution_count": null,
   "metadata": {
    "ExecuteTime": {
     "end_time": "2019-01-27T01:34:58.560476Z",
     "start_time": "2019-01-27T01:34:58.265273Z"
    },
    "hidden": true
   },
   "outputs": [],
   "source": [
    "fig, ax = plt.subplots()\n",
    "ax.scatter(data_x[:,0].reshape((200,1)), data_x[:,1].reshape((200,1)));\n",
    "ax.plot(d.flatten(), preds.flatten(), c='tab:red', label='Prediction');\n",
    "ax.set(xlabel='Input Feature', ylabel='Target Variable', title='Neural Network Regression {}'.format(rollnumber));\n",
    "ax.legend();"
   ]
  },
  {
   "cell_type": "markdown",
   "metadata": {
    "heading_collapsed": true
   },
   "source": [
    "## Classification Demo"
   ]
  },
  {
   "cell_type": "code",
   "execution_count": null,
   "metadata": {
    "ExecuteTime": {
     "end_time": "2019-01-27T01:35:05.630191Z",
     "start_time": "2019-01-27T01:35:05.600080Z"
    },
    "hidden": true
   },
   "outputs": [],
   "source": [
    "# Helper function to plot a decision boundary.\n",
    "# If you don't fully understand this function don't worry\n",
    "def plot_decision_boundary(pred_func, x_min, x_max, y_min, y_max, cmap, ax):\n",
    "    h = 0.01\n",
    "    # Generate a grid of points with distance h between them\n",
    "    xx, yy = np.meshgrid(np.arange(x_min, x_max, h), np.arange(y_min, y_max, h))\n",
    "    # Predict the function value for the whole gid\n",
    "    Z = pred_func(np.c_[xx.flatten(), yy.flatten()])\n",
    "    Z = Z.reshape(xx.shape)\n",
    "    # Plot the contour\n",
    "    ax.contourf(xx, yy, Z, cmap=cmap, alpha=0.5)"
   ]
  },
  {
   "cell_type": "code",
   "execution_count": null,
   "metadata": {
    "ExecuteTime": {
     "end_time": "2019-01-27T01:35:07.850117Z",
     "start_time": "2019-01-27T01:35:07.570257Z"
    },
    "hidden": true
   },
   "outputs": [],
   "source": [
    "data_x, data_y = make_moons(200, noise=0.20)\n",
    "plt.scatter(data_x[:,0], data_x[:,1], c=data_y, cmap=plt.cm.Spectral);\n",
    "plt.gca().set(xlabel='Feature 1', ylabel='Feature 2');"
   ]
  },
  {
   "cell_type": "code",
   "execution_count": null,
   "metadata": {
    "ExecuteTime": {
     "end_time": "2019-01-27T01:35:09.680260Z",
     "start_time": "2019-01-27T01:35:09.399995Z"
    },
    "hidden": true
   },
   "outputs": [],
   "source": [
    "clf = LogisticRegression(solver='lbfgs')\n",
    "clf = clf.fit(data_x, data_y);"
   ]
  },
  {
   "cell_type": "code",
   "execution_count": null,
   "metadata": {
    "ExecuteTime": {
     "end_time": "2019-01-27T01:35:11.610280Z",
     "start_time": "2019-01-27T01:35:10.910048Z"
    },
    "hidden": true
   },
   "outputs": [],
   "source": [
    "fig, ax = plt.subplots()\n",
    "x_min, x_max = data_x[:, 0].min() - .5, data_x[:, 0].max() + .5\n",
    "y_min, y_max = data_x[:, 1].min() - .5, data_x[:, 1].max() + .5\n",
    "plot_decision_boundary(lambda x: clf.predict(x), \n",
    "                       x_min, x_max, y_min, y_max, \n",
    "                       plt.cm.Spectral, ax)\n",
    "ax.scatter(data_x[:,0], data_x[:,1], c=data_y, cmap=plt.cm.Spectral);\n",
    "ax.set(xlabel='Feature 1', ylabel='Feature 2', title='Logistic Regression Classifier {}'.format(rollnumber));"
   ]
  },
  {
   "cell_type": "code",
   "execution_count": null,
   "metadata": {
    "ExecuteTime": {
     "end_time": "2019-01-27T01:35:18.080304Z",
     "start_time": "2019-01-27T01:35:13.530156Z"
    },
    "hidden": true
   },
   "outputs": [],
   "source": [
    "nn = NeuralNetwork([2,10,10,2], 'classification')\n",
    "history = nn.fit(data_x, pd.get_dummies(data_y).values, epochs=5000, lr=1e-3)\n",
    "plt.plot(history);\n",
    "plt.gca().set(xlabel='Epoch', ylabel='Cross-entropy', title='Training Plot {}'.format(rollnumber));"
   ]
  },
  {
   "cell_type": "code",
   "execution_count": null,
   "metadata": {
    "ExecuteTime": {
     "end_time": "2019-01-27T01:35:21.050129Z",
     "start_time": "2019-01-27T01:35:20.240234Z"
    },
    "hidden": true
   },
   "outputs": [],
   "source": [
    "fig, ax = plt.subplots()\n",
    "x_min, x_max = data_x[:, 0].min() - .5, data_x[:, 0].max() + .5\n",
    "y_min, y_max = data_x[:, 1].min() - .5, data_x[:, 1].max() + .5\n",
    "plot_decision_boundary(lambda x: nn.predict(x).argmax(axis=1), \n",
    "                       x_min, x_max, y_min, y_max, \n",
    "                       plt.cm.Spectral, ax)\n",
    "ax.scatter(data_x[:,0], data_x[:,1], c=data_y, cmap=plt.cm.Spectral);\n",
    "ax.set(xlabel='Feature 1', ylabel='Feature 2', title='Neural Network Classifier {}'.format(rollnumber));"
   ]
  }
 ],
 "metadata": {
  "kernelspec": {
   "display_name": "Python 3",
   "language": "python",
   "name": "python3"
  },
  "language_info": {
   "codemirror_mode": {
    "name": "ipython",
    "version": 3
   },
   "file_extension": ".py",
   "mimetype": "text/x-python",
   "name": "python",
   "nbconvert_exporter": "python",
   "pygments_lexer": "ipython3",
   "version": "3.7.3"
  },
  "notify_time": "5",
  "toc": {
   "base_numbering": 1,
   "nav_menu": {},
   "number_sections": true,
   "sideBar": true,
   "skip_h1_title": false,
   "title_cell": "Table of Contents",
   "title_sidebar": "Contents",
   "toc_cell": false,
   "toc_position": {},
   "toc_section_display": true,
   "toc_window_display": false
  }
 },
 "nbformat": 4,
 "nbformat_minor": 2
}
