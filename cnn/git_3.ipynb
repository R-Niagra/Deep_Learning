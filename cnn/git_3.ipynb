{
 "cells": [
  {
   "cell_type": "markdown",
   "metadata": {},
   "source": []
  },
  {
   "cell_type": "markdown",
   "metadata": {},
   "source": [
    "The goal of this home work is to design convolutional neural network for classification task on two dataset (a) cifar10 (b) Bricklane. As a part of this home work you will implement convolutional neural network in python and then study the effect of pooling, dropout, batch normalization and learning rate for given classifcation task. \n",
    "<br>\n",
    "Please note:\n",
    "- You have to save each trained model weights and tensorboard logs in different folder. Use proper names for the model\n",
    "- You have to show trainings in this notebook file, so make sure that the printings and figures are available on this notebook file\n",
    "- This notebook is also your report file. So add your comments and analysis of each task. This would be considered short report and it is compulsory part of the homework.\n",
    "- Your system memory may overflow. In that case please reset memory for trained model(s) keeping printed logs and history of trained model. History of all trained models could be used to plot the trends.\n",
    "- For trends you shall also use tensorboard logs \n",
    "\n",
    "\n"
   ]
  },
  {
   "cell_type": "markdown",
   "metadata": {},
   "source": [
    "#### imports"
   ]
  },
  {
   "cell_type": "code",
   "execution_count": 1,
   "metadata": {},
   "outputs": [
    {
     "name": "stderr",
     "output_type": "stream",
     "text": [
      "Using TensorFlow backend.\n"
     ]
    }
   ],
   "source": [
    "from keras.models import Model\n",
    "from keras.layers import Dense, Input, Conv2D, MaxPooling2D, Dropout, Flatten, BatchNormalization\n",
    "from keras.optimizers import Adam\n",
    "from keras.callbacks import ModelCheckpoint, EarlyStopping, CSVLogger, ReduceLROnPlateau, TensorBoard\n",
    "from keras.utils import plot_model, to_categorical\n",
    "import keras.backend as K\n",
    "from keras.datasets import cifar10\n",
    "import keras\n",
    "import os\n",
    "from sklearn.model_selection import train_test_split\n",
    "from IPython.display import display\n",
    "import glob\n",
    "import cv2\n",
    "import numpy as np\n",
    "import pandas as pd\n",
    "%matplotlib inline\n",
    "import matplotlib.pyplot as plt\n",
    "import json\n",
    "plt.style.use('seaborn')\n",
    "\n",
    "#import seaborn as sns\n",
    "\n",
    "import os\n",
    "your_id = 19100243\n",
    "np.random.seed(your_id)\n"
   ]
  },
  {
   "cell_type": "markdown",
   "metadata": {},
   "source": [
    "###### Hyperparameters"
   ]
  },
  {
   "cell_type": "code",
   "execution_count": 2,
   "metadata": {},
   "outputs": [
    {
     "name": "stdout",
     "output_type": "stream",
     "text": [
      "class labels:  [0 1 2 3 4 5 6 7 8 9]\n"
     ]
    }
   ],
   "source": [
    "batch_size = 16\n",
    "num_classes = 10\n",
    "class_labels = np.arange(0, num_classes, 1)\n",
    "input_shape = (32,32,3)\n",
    "images_dir = 'images/'\n",
    "print(\"class labels: \",class_labels)"
   ]
  },
  {
   "cell_type": "markdown",
   "metadata": {},
   "source": [
    "##### Task 1.1   Load dataset information\n",
    "[_cifar10_](https://www.cs.toronto.edu/~kriz/cifar.html) dataset contains 10 classes including airplane, bird, cat etc. You need to download dataset from [LINK](http://pjreddie.com/media/files/cifar.tgz) or [LINK2](https://www.cs.toronto.edu/~kriz/cifar-10-python.tar.gz). \n",
    "<br> _cifar10_ dataset is also available in keras but it is recommended to use the downloaded from above given link as ```cifar10.load_data()``` function downloads and loads complete data on RAM. \n",
    "<br> <br>\n",
    "This [Github](https://github.com/EN10/CIFAR) link may be helpful to you to load _cifar10_ dataset yourself.\n"
   ]
  },
  {
   "cell_type": "code",
   "execution_count": 3,
   "metadata": {},
   "outputs": [],
   "source": [
    "from numpy import array\n",
    "\n",
    "def data_load(dir,labels):\n",
    "    train_paths=[]\n",
    "    train_labels=[]\n",
    "    for x in range(num_classes):    #list directories according to the classes\n",
    "#         print(\"labels: \",labels[x][:-1])\n",
    "        paths = glob.glob(train_dir +'*'+ labels[x][:-1]+ '.png')\n",
    "    #     print(paths)\n",
    "        class_label=[x for i in range(len(paths))]\n",
    "    #     print(class_label)\n",
    "        train_paths+= paths\n",
    "        train_labels+= class_label\n",
    "\n",
    "#     print(\"train is: \", train_paths)\n",
    "#     print(\"train labels: \",train_labels)\n",
    "    return array(train_paths),array(train_labels)\n",
    "    \n",
    "    "
   ]
  },
  {
   "cell_type": "code",
   "execution_count": null,
   "metadata": {},
   "outputs": [],
   "source": [
    "\n",
    "# The data, split between train and test sets:\n",
    "\n",
    "train_dir = 'cifar/train/'\n",
    "test_dir = 'cifar/test/'\n",
    "with open('cifar/labels.txt', 'r') as f:\n",
    "    labels = f.readlines()\n",
    "\n",
    "x_train,y_train = data_load(train_dir,labels)\n",
    "x_test,y_test = data_load(test_dir,labels)\n",
    "\n",
    "# (x_train, y_train), (x_test, y_test) = cifar10.load_data()\n",
    "x_train, x_val, y_train, y_val = train_test_split(x_train, y_train, test_size=0.2, random_state=your_id)\n",
    "\n",
    "print('x_train shape:', x_train.shape)\n",
    "print('y_train shape:', y_train.shape)\n",
    "print(y_train.shape, 'train samples')\n",
    "print(x_test.shape[0], 'test samples')\n",
    "print(x_test[0])\n",
    "# print (\"x_val: \",x_val[0])"
   ]
  },
  {
   "cell_type": "markdown",
   "metadata": {},
   "source": [
    "##### Task 1.2 Preprocessing\n",
    "Preprocessing of data such as normalization, mean shift, make the learning task simple for network and could accelrate the training process. "
   ]
  },
  {
   "cell_type": "markdown",
   "metadata": {},
   "source": [
    "###### Task 1.2.1 \n",
    "For the images, pixel values vary from 0 to 255. To shift the values between (0,1) range, divide input image by 255. Now, retrain the model designed in part-A from scratch with preprocessed data. "
   ]
  },
  {
   "cell_type": "code",
   "execution_count": 5,
   "metadata": {},
   "outputs": [],
   "source": [
    "# You shall add your code here\n",
    "def preprocessing_norm (images):\n",
    "    #Add code here\n",
    "#     print(\"images are: \",images)\n",
    "    processed_images=images\n",
    "    for image in processed_images:\n",
    "        np.divide(image,255)\n",
    "#         np.divide(image,float(255))\n",
    "    return processed_images\n"
   ]
  },
  {
   "cell_type": "markdown",
   "metadata": {},
   "source": [
    "###### Task 1.2.2\n",
    "For the images, pixel values vary from 0 to 255. Compute the channel wise mean and standard daviation (std) for whole dataset. subtract channel-wise mean and divide by channel-wise std. This will shift the mean to zero and varation to 1. "
   ]
  },
  {
   "cell_type": "code",
   "execution_count": 6,
   "metadata": {},
   "outputs": [],
   "source": [
    "# You shall add your code here\n",
    "def preprocessing_meanShift (images):\n",
    "    #Add code here\n",
    "    processed_images=images\n",
    "    imgs=np.stack(images)\n",
    "    mean = np.mean(images[:,:,:,0]),np.mean(images[:,:,:,1]),np.mean(images[:,:,:,2])\n",
    "    std = np.std(images[:,:,:,0]),np.std(images[:,:,:,1]),np.std(images[:,:,:,2])\n",
    "#     print (\"mean is : \",mean)\n",
    "    processed_images=(processed_images-mean)/std\n",
    "    return processed_images\n"
   ]
  },
  {
   "cell_type": "markdown",
   "metadata": {},
   "source": [
    "##### Task 1.3  Batch Generator\n",
    "For the training, we load complete data (inputs, outputs) into RAM and then provide it to \"model.fit\" function. However, in real when dataset is very large in size we can not load complete data on RAM. In that case, we need load data batchwise. To do this, we need to write a generator function that shall load a batch of data (images and output), preprocess images and return a tuple as (inputs, outputs) on every step. \n",
    "<br>\n",
    "- The template code for batch generator is provided. You need add you script to read image(s), labels and preprocessing of images. \n",
    "<br>\n",
    "- You need to check and control values of batch_start and batch_end \n",
    "<br>\n",
    "- Batch generator can be implemented in multiple ways. You can use any other template of your choice."
   ]
  },
  {
   "cell_type": "code",
   "execution_count": 7,
   "metadata": {},
   "outputs": [],
   "source": [
    "# You need to check and control values of batch_start and batch_end \n",
    "\n",
    "def data_generator(images_paths,label_file, batch_size = 64, preprocessing = None):\n",
    "    batch_start = 0\n",
    "    batch_end = batch_size\n",
    "    n=len(label_file)\n",
    "    indexes=np.arange(0,len(images_paths),batch_size)\n",
    "#     print(\"indexes: \",indexes)\n",
    "    \n",
    "    if n % batch_size != 0:\n",
    "        indexes = indexes[:-1] \n",
    "    \n",
    "    \n",
    "    while True:\n",
    "        \n",
    "        for b_start in indexes:\n",
    "                \n",
    "            image_pths = images_paths [b_start: b_start+batch_size]\n",
    "            batch_lbls = label_file [b_start: b_start+batch_size]\n",
    "            \n",
    "            # Add your code here\n",
    "            # Preprocessing is your choice. \n",
    "            batch_images=np.zeros((batch_size, *input_shape))\n",
    "            batch_labels = np.zeros((batch_size, num_classes))\n",
    "\n",
    "            count=0\n",
    "            for path in image_pths:\n",
    "                \n",
    "                x=cv2.cvtColor(cv2.imread(path),cv2.COLOR_BGR2RGB)\n",
    "#                 print(\"type: \",type(x[0][0][0]))\n",
    "#                 x.astype(float)\n",
    "                \n",
    "                batch_images[count,:,:,:]=x\n",
    "                \n",
    "                labels= np.zeros((num_classes,),dtype='int')\n",
    "                labels[batch_lbls[count]]=1\n",
    "                batch_labels[count,:]=labels\n",
    "                count+=1\n",
    "            if (preprocessing is None):\n",
    "                pass\n",
    "            elif (preprocessing == 'method1'):\n",
    "                batch_images = preprocessing_norm(batch_images)\n",
    "            else:\n",
    "                batch_images = preprocessing_meanShift(batch_images)\n",
    "            \n",
    "            yield(batch_images, batch_labels)\n",
    "    \n",
    "# data_generator(x_train, y_train, batch_size, preprocessing = None)"
   ]
  },
  {
   "cell_type": "markdown",
   "metadata": {},
   "source": [
    "##### Task 1.4 Design CNN model"
   ]
  },
  {
   "cell_type": "code",
   "execution_count": 8,
   "metadata": {},
   "outputs": [],
   "source": [
    "# Add your code here\n",
    "\n",
    "input_im = Input(shape=(input_shape), name='input_im')\n",
    "conv1 = Conv2D(8, kernel_size=(3, 3), strides = (2,2),  activation='relu')(input_im)\n",
    "conv2 = Conv2D(16, (3, 3), strides = (2,2), activation='relu')(conv1)\n",
    "flat = Flatten()(conv2)\n",
    "dense1 = Dense(44, activation='relu')(flat)\n",
    "output_class = Dense(num_classes, activation='softmax')(dense1)\n",
    "\n",
    "model = Model(inputs=input_im, outputs=output_class)"
   ]
  },
  {
   "cell_type": "markdown",
   "metadata": {},
   "source": [
    "##### Compile model and plot"
   ]
  },
  {
   "cell_type": "code",
   "execution_count": null,
   "metadata": {},
   "outputs": [],
   "source": []
  },
  {
   "cell_type": "code",
   "execution_count": 9,
   "metadata": {},
   "outputs": [
    {
     "name": "stdout",
     "output_type": "stream",
     "text": [
      "_________________________________________________________________\n",
      "Layer (type)                 Output Shape              Param #   \n",
      "=================================================================\n",
      "input_im (InputLayer)        (None, 32, 32, 3)         0         \n",
      "_________________________________________________________________\n",
      "conv2d_1 (Conv2D)            (None, 15, 15, 8)         224       \n",
      "_________________________________________________________________\n",
      "conv2d_2 (Conv2D)            (None, 7, 7, 16)          1168      \n",
      "_________________________________________________________________\n",
      "flatten_1 (Flatten)          (None, 784)               0         \n",
      "_________________________________________________________________\n",
      "dense_1 (Dense)              (None, 44)                34540     \n",
      "_________________________________________________________________\n",
      "dense_2 (Dense)              (None, 10)                450       \n",
      "=================================================================\n",
      "Total params: 36,382\n",
      "Trainable params: 36,382\n",
      "Non-trainable params: 0\n",
      "_________________________________________________________________\n"
     ]
    }
   ],
   "source": [
    "model_name = 'id_model1'\n",
    "\n",
    "if not os.path.exists('./'+model_name):\n",
    "    os.mkdir(model_name)\n",
    "    \n",
    "adam = Adam(lr=0.001)\n",
    "model.compile(loss='categorical_crossentropy', \n",
    "              optimizer=adam, \n",
    "              metrics=['accuracy'])\n",
    "\n",
    "plot_model(model, model_name+'/'+model_name+'.png')\n",
    "model.summary()"
   ]
  },
  {
   "cell_type": "markdown",
   "metadata": {},
   "source": [
    "##### Task 1.5 Training model\n",
    "In order to train the model, instead of \"model.fit\" function, we will use \"model.fit_generator\" function for training. For details check out [keras documentation](https://keras.io/models/sequential/)"
   ]
  },
  {
   "cell_type": "code",
   "execution_count": 10,
   "metadata": {},
   "outputs": [],
   "source": [
    "class LRTensorBoard(TensorBoard):\n",
    "    def __init__(self, *args, **kwargs):\n",
    "        super(LRTensorBoard, self).__init__(*args, **kwargs)\n",
    "\n",
    "    def on_epoch_end(self, epoch, logs=None):\n",
    "        logs.update({'lr': K.eval(self.model.optimizer.lr)})\n",
    "        super(LRTensorBoard, self).on_epoch_end(epoch, logs)"
   ]
  },
  {
   "cell_type": "code",
   "execution_count": 15,
   "metadata": {},
   "outputs": [],
   "source": [
    "epochs = 1\n",
    "    \n",
    "checkpoint = ModelCheckpoint(model_name+'/'+model_name+'-{epoch:02d}-{val_loss:.2f}.h5', \n",
    "                             monitor='val_loss', verbose=1, save_best_only=True, mode='auto')\n",
    "cvslogger = CSVLogger(model_name+'/logs.csv', separator=',', append=True)\n",
    "reducelr = ReduceLROnPlateau(monitor='val_loss', factor=0.2, patience=3, min_lr=0.000001)\n",
    "tensorboard = LRTensorBoard(log_dir='./'+model_name, histogram_freq=0, write_graph=True, write_grads=1, \n",
    "                            batch_size=batch_size, write_images=True)\n",
    "\n",
    "callbacks = [checkpoint, tensorboard, cvslogger, reducelr]"
   ]
  },
  {
   "cell_type": "markdown",
   "metadata": {},
   "source": [
    "###### Task 1.5.1 \n",
    "Train model without using any pre-processing scheme"
   ]
  },
  {
   "cell_type": "code",
   "execution_count": 16,
   "metadata": {},
   "outputs": [],
   "source": [
    "train_gen = data_generator(x_train, y_train, batch_size, preprocessing = None)\n",
    "val_gen = data_generator(x_val, y_val, batch_size)\n",
    "test_gen = data_generator(x_test, y_test, batch_size)"
   ]
  },
  {
   "cell_type": "code",
   "execution_count": null,
   "metadata": {},
   "outputs": [],
   "source": [
    "x,y= val_gen.__next__()\n",
    "print(x,y)"
   ]
  },
  {
   "cell_type": "code",
   "execution_count": 18,
   "metadata": {},
   "outputs": [
    {
     "name": "stdout",
     "output_type": "stream",
     "text": [
      "Epoch 1/1\n",
      "2500/2500 [==============================] - 35s 14ms/step - loss: 1.7451 - acc: 0.3479 - val_loss: 1.6207 - val_acc: 0.4036\n",
      "\n",
      "Epoch 00001: val_loss improved from inf to 1.62071, saving model to id_model1/id_model1-01-1.62.h5\n"
     ]
    }
   ],
   "source": [
    "hist1 = model.fit_generator(train_gen, epochs=epochs, steps_per_epoch=len(y_train)//batch_size, \n",
    "                           validation_data=val_gen, validation_steps=len(y_val)//batch_size, \n",
    "                           callbacks=callbacks, verbose=1)\n",
    "\n",
    "# save model\n",
    "# with open('hist1.json', 'w') as f:\n",
    "#     json.dump(hist1.history, f)"
   ]
  },
  {
   "cell_type": "markdown",
   "metadata": {},
   "source": [
    "###### Task 1.5.2 \n",
    "Train model by using data preprocessing i.e normalization or mean shift. "
   ]
  },
  {
   "cell_type": "code",
   "execution_count": 115,
   "metadata": {},
   "outputs": [
    {
     "name": "stdout",
     "output_type": "stream",
     "text": [
      "_________________________________________________________________\n",
      "Layer (type)                 Output Shape              Param #   \n",
      "=================================================================\n",
      "input_im (InputLayer)        (None, 32, 32, 3)         0         \n",
      "_________________________________________________________________\n",
      "conv2d_37 (Conv2D)           (None, 15, 15, 8)         224       \n",
      "_________________________________________________________________\n",
      "conv2d_38 (Conv2D)           (None, 7, 7, 16)          1168      \n",
      "_________________________________________________________________\n",
      "flatten_19 (Flatten)         (None, 784)               0         \n",
      "_________________________________________________________________\n",
      "dense_37 (Dense)             (None, 44)                34540     \n",
      "_________________________________________________________________\n",
      "dense_38 (Dense)             (None, 10)                450       \n",
      "=================================================================\n",
      "Total params: 36,382\n",
      "Trainable params: 36,382\n",
      "Non-trainable params: 0\n",
      "_________________________________________________________________\n"
     ]
    }
   ],
   "source": [
    "model= None\n",
    "# Add your code here\n",
    "input_im = Input(shape=(input_shape), name='input_im')\n",
    "conv1 = Conv2D(8, kernel_size=(3, 3), strides = (2,2),  activation='relu')(input_im)\n",
    "conv2 = Conv2D(16, (3, 3), strides = (2,2), activation='relu')(conv1)\n",
    "flat = Flatten()(conv2)\n",
    "dense1 = Dense(44, activation='relu')(flat)\n",
    "output_class = Dense(num_classes, activation='softmax')(dense1)\n",
    "\n",
    "model = Model(inputs=input_im, outputs=output_class)\n",
    "\n",
    "\n",
    "model_name = 'model1_processing_norm'\n",
    "\n",
    "if not os.path.exists('./'+model_name):\n",
    "    os.mkdir(model_name)\n",
    "    \n",
    "adam = Adam(lr=0.001)\n",
    "model.compile(loss='categorical_crossentropy', \n",
    "              optimizer=adam, \n",
    "              metrics=['accuracy'])\n",
    "\n",
    "plot_model(model, model_name+'/'+model_name+'.png')\n",
    "model.summary()\n"
   ]
  },
  {
   "cell_type": "code",
   "execution_count": null,
   "metadata": {},
   "outputs": [],
   "source": [
    "\n",
    "epochs = 5\n",
    "    \n",
    "checkpoint = ModelCheckpoint(model_name+'/'+model_name+'-{epoch:02d}-{val_loss:.2f}.h5', \n",
    "                             monitor='val_loss', verbose=1, save_best_only=True, mode='auto')\n",
    "cvslogger = CSVLogger(model_name+'/logs.csv', separator=',', append=True)\n",
    "reducelr = ReduceLROnPlateau(monitor='val_loss', factor=0.2, patience=3, min_lr=0.000001)\n",
    "tensorboard = LRTensorBoard(log_dir='./'+model_name, histogram_freq=0, write_graph=True, write_grads=1, \n",
    "                            batch_size=batch_size, write_images=True)\n",
    "\n",
    "callbacks = [checkpoint, tensorboard, cvslogger, reducelr]\n",
    "\n",
    "\n",
    "#-----------------------------------------------\n",
    "\n",
    "train_gen = data_generator(x_train, y_train, batch_size, preprocessing = 'method1')\n",
    "val_gen = data_generator(x_val, y_val, batch_size)\n",
    "test_gen = data_generator(x_test, y_test, batch_size)\n",
    "\n",
    "x,y= val_gen.__next__()\n",
    "\n",
    "hist2 = model.fit_generator(train_gen, epochs=epochs, steps_per_epoch=len(y_train)//batch_size, \n",
    "                           validation_data=val_gen, validation_steps=len(y_val)//batch_size, \n",
    "                           callbacks=callbacks, verbose=1)\n",
    "\n",
    "# save model"
   ]
  },
  {
   "cell_type": "markdown",
   "metadata": {},
   "source": [
    "##### Task 2.1 Pooling\n",
    "Now, you need to modify the model by adding pooling layer(s). Pooling could be average pooling or max pooling. You can use the size and stride for pooling of your choice. \n",
    "<br> \n",
    "Modify the network by introducing pooling layer and train the model using __fit_generator__ function. "
   ]
  },
  {
   "cell_type": "code",
   "execution_count": 41,
   "metadata": {
    "slideshow": {
     "slide_type": "-"
    }
   },
   "outputs": [],
   "source": [
    "model = None\n",
    "# Add your code here\n",
    "\n",
    "input_im = Input(shape=(input_shape), name='input_im')\n",
    "batch1=BatchNormalization()(input_im)\n",
    "conv1 = Conv2D(8, kernel_size=(3, 3), strides = (2,2),  activation='relu')(batch1)\n",
    "conv2 = Conv2D(16, (3, 3), strides = (2,2), activation='relu')(conv1)\n",
    "pooled = MaxPooling2D(pool_size=(5, 5))(conv2)\n",
    "flat = Flatten()(pooled)\n",
    "dense1 = Dense(44, activation='relu')(flat)\n",
    "output_class = Dense(num_classes, activation='softmax')(dense1)\n",
    "\n",
    "model = Model(inputs=input_im, outputs=output_class)\n",
    "\n",
    "\n",
    "# save model"
   ]
  },
  {
   "cell_type": "code",
   "execution_count": 42,
   "metadata": {},
   "outputs": [
    {
     "name": "stdout",
     "output_type": "stream",
     "text": [
      "_________________________________________________________________\n",
      "Layer (type)                 Output Shape              Param #   \n",
      "=================================================================\n",
      "input_im (InputLayer)        (None, 32, 32, 3)         0         \n",
      "_________________________________________________________________\n",
      "batch_normalization_1 (Batch (None, 32, 32, 3)         12        \n",
      "_________________________________________________________________\n",
      "conv2d_11 (Conv2D)           (None, 15, 15, 8)         224       \n",
      "_________________________________________________________________\n",
      "conv2d_12 (Conv2D)           (None, 7, 7, 16)          1168      \n",
      "_________________________________________________________________\n",
      "max_pooling2d_1 (MaxPooling2 (None, 1, 1, 16)          0         \n",
      "_________________________________________________________________\n",
      "flatten_6 (Flatten)          (None, 16)                0         \n",
      "_________________________________________________________________\n",
      "dense_11 (Dense)             (None, 44)                748       \n",
      "_________________________________________________________________\n",
      "dense_12 (Dense)             (None, 10)                450       \n",
      "=================================================================\n",
      "Total params: 2,602\n",
      "Trainable params: 2,596\n",
      "Non-trainable params: 6\n",
      "_________________________________________________________________\n"
     ]
    }
   ],
   "source": [
    "model_name = 'model_pooling'\n",
    "\n",
    "if not os.path.exists('./'+model_name):\n",
    "    os.mkdir(model_name)\n",
    "    \n",
    "adam = Adam(lr=0.001)\n",
    "model.compile(loss='categorical_crossentropy', \n",
    "              optimizer=adam, \n",
    "              metrics=['accuracy'])\n",
    "\n",
    "plot_model(model, model_name+'/'+model_name+'.png')\n",
    "model.summary()"
   ]
  },
  {
   "cell_type": "code",
   "execution_count": 43,
   "metadata": {},
   "outputs": [],
   "source": [
    "epochs = 5\n",
    "    \n",
    "checkpoint = ModelCheckpoint(model_name+'/'+model_name+'-{epoch:02d}-{val_loss:.2f}.h5', \n",
    "                             monitor='val_loss', verbose=1, save_best_only=True, mode='auto')\n",
    "cvslogger = CSVLogger(model_name+'/logs.csv', separator=',', append=True)\n",
    "reducelr = ReduceLROnPlateau(monitor='val_loss', factor=0.2, patience=3, min_lr=0.000001)\n",
    "tensorboard = LRTensorBoard(log_dir='./'+model_name, histogram_freq=0, write_graph=True, write_grads=1, \n",
    "                            batch_size=batch_size, write_images=True)\n",
    "\n",
    "callbacks = [checkpoint, tensorboard, cvslogger, reducelr]\n"
   ]
  },
  {
   "cell_type": "code",
   "execution_count": 44,
   "metadata": {},
   "outputs": [
    {
     "name": "stdout",
     "output_type": "stream",
     "text": [
      "Epoch 1/5\n",
      "2500/2500 [==============================] - 35s 14ms/step - loss: 1.9553 - acc: 0.2682 - val_loss: 1.7863 - val_acc: 0.3333\n",
      "\n",
      "Epoch 00001: val_loss improved from inf to 1.78628, saving model to model_pooling/model_pooling-01-1.79.h5\n",
      "Epoch 2/5\n",
      "2500/2500 [==============================] - 23s 9ms/step - loss: 1.7718 - acc: 0.3420 - val_loss: 1.7106 - val_acc: 0.3687\n",
      "\n",
      "Epoch 00002: val_loss improved from 1.78628 to 1.71056, saving model to model_pooling/model_pooling-02-1.71.h5\n",
      "Epoch 3/5\n",
      "2500/2500 [==============================] - 23s 9ms/step - loss: 1.7166 - acc: 0.3678 - val_loss: 1.6778 - val_acc: 0.3864\n",
      "\n",
      "Epoch 00003: val_loss improved from 1.71056 to 1.67775, saving model to model_pooling/model_pooling-03-1.68.h5\n",
      "Epoch 4/5\n",
      "2500/2500 [==============================] - 23s 9ms/step - loss: 1.6868 - acc: 0.3818 - val_loss: 1.6602 - val_acc: 0.3946\n",
      "\n",
      "Epoch 00004: val_loss improved from 1.67775 to 1.66020, saving model to model_pooling/model_pooling-04-1.66.h5\n",
      "Epoch 5/5\n",
      "2500/2500 [==============================] - 23s 9ms/step - loss: 1.6659 - acc: 0.3915 - val_loss: 1.6496 - val_acc: 0.4016\n",
      "\n",
      "Epoch 00005: val_loss improved from 1.66020 to 1.64957, saving model to model_pooling/model_pooling-05-1.65.h5\n"
     ]
    }
   ],
   "source": [
    "#to train the pooling model\n",
    "train_gen = data_generator(x_train, y_train, batch_size, preprocessing = None)\n",
    "val_gen = data_generator(x_val, y_val, batch_size)\n",
    "test_gen = data_generator(x_test, y_test, batch_size)\n",
    "\n",
    "x,y= val_gen.__next__()\n",
    "\n",
    "hist3 = model.fit_generator(train_gen, epochs=epochs, steps_per_epoch=len(y_train)//batch_size, \n",
    "                           validation_data=val_gen, validation_steps=len(y_val)//batch_size, \n",
    "                           callbacks=callbacks, verbose=1)\n",
    "\n"
   ]
  },
  {
   "cell_type": "raw",
   "metadata": {},
   "source": [
    "Max pooling actually helps overfitting by providing an abstracted part of a representation. Althugh it didn't performed quite well in the testing data."
   ]
  },
  {
   "cell_type": "markdown",
   "metadata": {},
   "source": [
    "##### Task 3.1 Dropout\n",
    "Modify the network by introducing dropout layer and train the model using __fit_generator__ function. "
   ]
  },
  {
   "cell_type": "code",
   "execution_count": 71,
   "metadata": {},
   "outputs": [],
   "source": [
    "model = None\n",
    "\n",
    "# Add your code here\n",
    "\n",
    "\n",
    "input_im = Input(shape=(input_shape), name='input_im')\n",
    "conv1 = Conv2D(8, kernel_size=(3, 3), strides = (2,2),  activation='relu')(input_im)\n",
    "conv2 = Conv2D(16, (3, 3), strides = (2,2), activation='relu')(conv1)\n",
    "pooled = MaxPooling2D(pool_size=(2, 2))(conv2)\n",
    "dropped = Dropout(rate=0.25)(pooled)\n",
    "flat = Flatten()(dropped)\n",
    "dense1 = Dense(44, activation='relu')(flat)\n",
    "dropped2 = Dropout(rate=0.5)(dense1)\n",
    "output_class = Dense(num_classes, activation='softmax')(dropped2)\n",
    "\n",
    "model = Model(inputs=input_im, outputs=output_class)\n",
    "\n",
    "# save model\n"
   ]
  },
  {
   "cell_type": "code",
   "execution_count": 72,
   "metadata": {},
   "outputs": [
    {
     "name": "stdout",
     "output_type": "stream",
     "text": [
      "_________________________________________________________________\n",
      "Layer (type)                 Output Shape              Param #   \n",
      "=================================================================\n",
      "input_im (InputLayer)        (None, 32, 32, 3)         0         \n",
      "_________________________________________________________________\n",
      "conv2d_27 (Conv2D)           (None, 15, 15, 8)         224       \n",
      "_________________________________________________________________\n",
      "conv2d_28 (Conv2D)           (None, 7, 7, 16)          1168      \n",
      "_________________________________________________________________\n",
      "max_pooling2d_10 (MaxPooling (None, 3, 3, 16)          0         \n",
      "_________________________________________________________________\n",
      "dropout_15 (Dropout)         (None, 3, 3, 16)          0         \n",
      "_________________________________________________________________\n",
      "flatten_14 (Flatten)         (None, 144)               0         \n",
      "_________________________________________________________________\n",
      "dense_27 (Dense)             (None, 44)                6380      \n",
      "_________________________________________________________________\n",
      "dropout_16 (Dropout)         (None, 44)                0         \n",
      "_________________________________________________________________\n",
      "dense_28 (Dense)             (None, 10)                450       \n",
      "=================================================================\n",
      "Total params: 8,222\n",
      "Trainable params: 8,222\n",
      "Non-trainable params: 0\n",
      "_________________________________________________________________\n"
     ]
    }
   ],
   "source": [
    "model_name = 'model_dropout'\n",
    "\n",
    "if not os.path.exists('./'+model_name):\n",
    "    os.mkdir(model_name)\n",
    "    \n",
    "adam = Adam(lr=0.001)\n",
    "model.compile(loss='categorical_crossentropy', \n",
    "              optimizer=adam, \n",
    "              metrics=['accuracy'])\n",
    "\n",
    "plot_model(model, model_name+'/'+model_name+'.png')\n",
    "model.summary()"
   ]
  },
  {
   "cell_type": "code",
   "execution_count": 73,
   "metadata": {},
   "outputs": [],
   "source": [
    "epochs = 5\n",
    "    \n",
    "checkpoint = ModelCheckpoint(model_name+'/'+model_name+'-{epoch:02d}-{val_loss:.2f}.h5', \n",
    "                             monitor='val_loss', verbose=1, save_best_only=True, mode='auto')\n",
    "cvslogger = CSVLogger(model_name+'/logs.csv', separator=',', append=True)\n",
    "reducelr = ReduceLROnPlateau(monitor='val_loss', factor=0.2, patience=3, min_lr=0.000001)\n",
    "tensorboard = LRTensorBoard(log_dir='./'+model_name, histogram_freq=0, write_graph=True, write_grads=1, \n",
    "                            batch_size=batch_size, write_images=True)\n",
    "\n",
    "callbacks = [checkpoint, tensorboard, cvslogger, reducelr]"
   ]
  },
  {
   "cell_type": "code",
   "execution_count": 74,
   "metadata": {},
   "outputs": [
    {
     "name": "stdout",
     "output_type": "stream",
     "text": [
      "Epoch 1/5\n",
      "2500/2500 [==============================] - 24s 9ms/step - loss: 2.8761 - acc: 0.1182 - val_loss: 2.1994 - val_acc: 0.1825\n",
      "\n",
      "Epoch 00001: val_loss improved from inf to 2.19942, saving model to model_dropout/model_dropout-01-2.20.h5\n",
      "Epoch 2/5\n",
      "2500/2500 [==============================] - 22s 9ms/step - loss: 2.1229 - acc: 0.1948 - val_loss: 1.9320 - val_acc: 0.2716\n",
      "\n",
      "Epoch 00002: val_loss improved from 2.19942 to 1.93196, saving model to model_dropout/model_dropout-02-1.93.h5\n",
      "Epoch 3/5\n",
      "2500/2500 [==============================] - 23s 9ms/step - loss: 1.9663 - acc: 0.2480 - val_loss: 1.8062 - val_acc: 0.3193\n",
      "\n",
      "Epoch 00003: val_loss improved from 1.93196 to 1.80619, saving model to model_dropout/model_dropout-03-1.81.h5\n",
      "Epoch 4/5\n",
      "2500/2500 [==============================] - 24s 9ms/step - loss: 1.8981 - acc: 0.2800 - val_loss: 1.7892 - val_acc: 0.3348\n",
      "\n",
      "Epoch 00004: val_loss improved from 1.80619 to 1.78924, saving model to model_dropout/model_dropout-04-1.79.h5\n",
      "Epoch 5/5\n",
      "2500/2500 [==============================] - 24s 10ms/step - loss: 1.8660 - acc: 0.2945 - val_loss: 1.7523 - val_acc: 0.3488\n",
      "\n",
      "Epoch 00005: val_loss improved from 1.78924 to 1.75229, saving model to model_dropout/model_dropout-05-1.75.h5\n"
     ]
    }
   ],
   "source": [
    "#to train the pooling model\n",
    "train_gen = data_generator(x_train, y_train, batch_size, preprocessing = None)\n",
    "val_gen = data_generator(x_val, y_val, batch_size)\n",
    "test_gen = data_generator(x_test, y_test, batch_size)\n",
    "\n",
    "x,y= val_gen.__next__()\n",
    "\n",
    "hist4 = model.fit_generator(train_gen, epochs=epochs, steps_per_epoch=len(y_train)//batch_size, \n",
    "                           validation_data=val_gen, validation_steps=len(y_val)//batch_size, \n",
    "                           callbacks=callbacks, verbose=1)"
   ]
  },
  {
   "cell_type": "raw",
   "metadata": {},
   "source": [
    "Dropout prevents the model form being specialized or get over trained due to certin activations. This happens of certains activations are contributing alot more than other resulting in specialization. Although it performed well in training data but it performed poor in testing data."
   ]
  },
  {
   "cell_type": "markdown",
   "metadata": {},
   "source": [
    "##### Task 4.1 Batch Normalization\n",
    "Modify the network by introducing batch normalization layer and train the model. "
   ]
  },
  {
   "cell_type": "code",
   "execution_count": 82,
   "metadata": {},
   "outputs": [
    {
     "name": "stdout",
     "output_type": "stream",
     "text": [
      "_________________________________________________________________\n",
      "Layer (type)                 Output Shape              Param #   \n",
      "=================================================================\n",
      "input_im (InputLayer)        (None, 32, 32, 3)         0         \n",
      "_________________________________________________________________\n",
      "batch_normalization_11 (Batc (None, 32, 32, 3)         12        \n",
      "_________________________________________________________________\n",
      "conv2d_33 (Conv2D)           (None, 15, 15, 8)         224       \n",
      "_________________________________________________________________\n",
      "batch_normalization_12 (Batc (None, 15, 15, 8)         32        \n",
      "_________________________________________________________________\n",
      "max_pooling2d_15 (MaxPooling (None, 7, 7, 8)           0         \n",
      "_________________________________________________________________\n",
      "dropout_21 (Dropout)         (None, 7, 7, 8)           0         \n",
      "_________________________________________________________________\n",
      "conv2d_34 (Conv2D)           (None, 3, 3, 16)          1168      \n",
      "_________________________________________________________________\n",
      "batch_normalization_13 (Batc (None, 3, 3, 16)          64        \n",
      "_________________________________________________________________\n",
      "max_pooling2d_16 (MaxPooling (None, 1, 1, 16)          0         \n",
      "_________________________________________________________________\n",
      "dropout_22 (Dropout)         (None, 1, 1, 16)          0         \n",
      "_________________________________________________________________\n",
      "flatten_17 (Flatten)         (None, 16)                0         \n",
      "_________________________________________________________________\n",
      "dense_33 (Dense)             (None, 44)                748       \n",
      "_________________________________________________________________\n",
      "dense_34 (Dense)             (None, 10)                450       \n",
      "=================================================================\n",
      "Total params: 2,698\n",
      "Trainable params: 2,644\n",
      "Non-trainable params: 54\n",
      "_________________________________________________________________\n"
     ]
    }
   ],
   "source": [
    "model = None\n",
    "\n",
    "# Add your code to complete this cell\n",
    "\n",
    "model_name = 'model_batch'\n",
    "if not os.path.exists('./'+model_name):\n",
    "    os.mkdir(model_name)\n",
    "    \n",
    "# ====================================================   \n",
    "input_im = Input(shape=(input_shape), name='input_im')\n",
    "b_Norm1=BatchNormalization(axis=-1,momentum=0.99, epsilon=0.001)(input_im)\n",
    "# Hidden Layers\n",
    "conv1 = Conv2D(8, kernel_size=(3, 3), strides = (2,2),  activation='relu')(b_Norm1)\n",
    "b_Norm2=BatchNormalization(axis=-1,momentum=0.99, epsilon=0.001)(conv1)\n",
    "pooled = MaxPooling2D(pool_size=(2, 2))(b_Norm2)\n",
    "dropped = Dropout(rate=0.2)(pooled)\n",
    "\n",
    "\n",
    "conv2 = Conv2D(16, (3, 3), strides = (2,2), activation='relu')(dropped)\n",
    "b_Norm3=BatchNormalization(axis=-1,momentum=0.99, epsilon=0.001)(conv2)\n",
    "pooled1 = MaxPooling2D(pool_size=(2, 2))(b_Norm3)\n",
    "dropped1 = Dropout(rate=0.2)(pooled1)\n",
    "flat = Flatten()(dropped1)\n",
    "\n",
    "dense1 = Dense(44, activation='relu')(flat)\n",
    "\n",
    "output_class = Dense(num_classes, activation='softmax')(dense1)\n",
    "model = Model(inputs=input_im, outputs=output_class)\n",
    "# ====================================================\n",
    "\n",
    "adam = Adam(lr=0.001)\n",
    "model.compile(loss='categorical_crossentropy', \n",
    "              optimizer=adam, \n",
    "              metrics=['accuracy'])\n",
    "plot_model(model, model_name+'/'+model_name+'.png')\n",
    "model.summary()\n",
    "\n",
    "# save model\n",
    "\n",
    "# batch normalization changes the distribution of input values(covariance shift)."
   ]
  },
  {
   "cell_type": "code",
   "execution_count": 83,
   "metadata": {},
   "outputs": [
    {
     "name": "stdout",
     "output_type": "stream",
     "text": [
      "Epoch 1/5\n",
      "2500/2500 [==============================] - 44s 18ms/step - loss: 2.0113 - acc: 0.2453 - val_loss: 14.0188 - val_acc: 0.1127\n",
      "\n",
      "Epoch 00001: val_loss improved from inf to 14.01884, saving model to model_batch/model_batch-01-14.02.h5\n",
      "Epoch 2/5\n",
      "2500/2500 [==============================] - 41s 16ms/step - loss: 1.8602 - acc: 0.3025 - val_loss: 12.7003 - val_acc: 0.1789\n",
      "\n",
      "Epoch 00002: val_loss improved from 14.01884 to 12.70032, saving model to model_batch/model_batch-02-12.70.h5\n",
      "Epoch 3/5\n",
      "2500/2500 [==============================] - 37s 15ms/step - loss: 1.8057 - acc: 0.3275 - val_loss: 12.1941 - val_acc: 0.1955\n",
      "\n",
      "Epoch 00003: val_loss improved from 12.70032 to 12.19409, saving model to model_batch/model_batch-03-12.19.h5\n",
      "Epoch 4/5\n",
      "2500/2500 [==============================] - 34s 14ms/step - loss: 1.7764 - acc: 0.3407 - val_loss: 11.5834 - val_acc: 0.2221\n",
      "\n",
      "Epoch 00004: val_loss improved from 12.19409 to 11.58343, saving model to model_batch/model_batch-04-11.58.h5\n",
      "Epoch 5/5\n",
      "2500/2500 [==============================] - 40s 16ms/step - loss: 1.7604 - acc: 0.3482 - val_loss: 11.8910 - val_acc: 0.2089\n",
      "\n",
      "Epoch 00005: val_loss did not improve from 11.58343\n"
     ]
    }
   ],
   "source": [
    "epochs = 5\n",
    "    \n",
    "checkpoint = ModelCheckpoint(model_name+'/'+model_name+'-{epoch:02d}-{val_loss:.2f}.h5', \n",
    "                             monitor='val_loss', verbose=1, save_best_only=True, mode='auto')\n",
    "cvslogger = CSVLogger(model_name+'/logs.csv', separator=',', append=True)\n",
    "reducelr = ReduceLROnPlateau(monitor='val_loss', factor=0.2, patience=3, min_lr=0.000001)\n",
    "tensorboard = LRTensorBoard(log_dir='./'+model_name, histogram_freq=0, write_graph=True, write_grads=1, \n",
    "                            batch_size=batch_size, write_images=True)\n",
    "\n",
    "callbacks = [checkpoint, tensorboard, cvslogger, reducelr]\n",
    "\n",
    "train_gen = data_generator(x_train, y_train, batch_size, preprocessing = 'method2')\n",
    "val_gen = data_generator(x_val, y_val, batch_size)\n",
    "test_gen = data_generator(x_test, y_test, batch_size)\n",
    "\n",
    "x,y= val_gen.__next__()\n",
    "hist_5 = model.fit_generator(train_gen, epochs=epochs, steps_per_epoch=len(y_train)//batch_size, \n",
    "                           validation_data=val_gen, validation_steps=len(y_val)//batch_size, \n",
    "                           callbacks=callbacks, verbose=1)\n"
   ]
  },
  {
   "cell_type": "markdown",
   "metadata": {},
   "source": [
    "##### Task 5.1 Comparision of all model\n",
    "\n",
    "In this task you need to plot the loss and accuracy for all models and __discuss__ which model has better performance and why.   "
   ]
  },
  {
   "cell_type": "code",
   "execution_count": 84,
   "metadata": {},
   "outputs": [
    {
     "data": {
      "image/png": "[encoded data removed]",
      "text/plain": [
       "<Figure size 576x396 with 1 Axes>"
      ]
     },
     "metadata": {},
     "output_type": "display_data"
    },
    {
     "data": {
      "image/png": "[encoded data removed]",
      "text/plain": [
       "<Figure size 576x396 with 1 Axes>"
      ]
     },
     "metadata": {},
     "output_type": "display_data"
    }
   ],
   "source": [
    "# plot Accuracy of all models\n",
    "plt.clf() \n",
    "x_axis = list(range(epochs))\n",
    "plt.plot(x_axis, hist_5.history['acc'], label='acc1')\n",
    "plt.scatter(x_axis, hist_5.history['acc'])\n",
    "# plt.plot(x_axis, hist2.history['acc'], label='acc2')\n",
    "# print(\"check5\")\n",
    "# plt.scatter(x_axis, hist2.history['acc'])\n",
    "plt.legend()\n",
    "plt.title('Accuracy')\n",
    "plt.show()\n",
    "\n",
    "# plot loss of all models\n",
    "plt.clf() \n",
    "x_axis = list(range(epochs))\n",
    "plt.plot(x_axis, hist_5.history['loss'], label='loss1')\n",
    "plt.scatter(x_axis, hist_5.history['loss'])\n",
    "plt.legend()\n",
    "plt.title('Loss')\n",
    "plt.show()"
   ]
  },
  {
   "cell_type": "markdown",
   "metadata": {},
   "source": [
    "###### Tensorboard \n",
    "\n",
    "You can run TensorBoard using the following command\n",
    "```tensorboard --logdir=path/to/log-directory\n",
    "```\n",
    "Now for logs of all above trained models, take snapshot of the _loss_ and _accuracy_ plots and save in the directory where this notebook is. To show that saved plot here in notebook use following command in _markdown_ cell. \n",
    "<br> __![](path_to_image)__\n",
    "\n",
    "- Tensorboard plot of accuracies:\n",
    "!['loss'](loss.png)\n",
    "\n",
    "- Tensorboard plot of accuracies:\n",
    "!['Accuracy](acc.png)\n"
   ]
  },
  {
   "cell_type": "markdown",
   "metadata": {},
   "source": []
  },
  {
   "cell_type": "markdown",
   "metadata": {},
   "source": [
    "###### ADD Your Comments here"
   ]
  },
  {
   "cell_type": "code",
   "execution_count": null,
   "metadata": {},
   "outputs": [],
   "source": []
  },
  {
   "cell_type": "code",
   "execution_count": null,
   "metadata": {},
   "outputs": [],
   "source": []
  },
  {
   "cell_type": "markdown",
   "metadata": {},
   "source": [
    "##### Task 5.2 Visualize Activations\n",
    "In this task, you are required to visualize the activations (outputs) of both the convolution layers of a model. For help, please refer to __Tutorials__"
   ]
  },
  {
   "cell_type": "code",
   "execution_count": 120,
   "metadata": {},
   "outputs": [
    {
     "data": {
      "image/png": "[encoded data removed]",
      "text/plain": [
       "<Figure size 576x396 with 1 Axes>"
      ]
     },
     "metadata": {},
     "output_type": "display_data"
    }
   ],
   "source": [
    "## ADD you code here\n",
    "\n",
    "# new_model = Model(inputs=input_im, outputs=conv2)\n",
    "# con1_activations = new_model.predict(x_test[0,:,:].reshape((1,32,32,3)))\n",
    "# con1_activations.shape\n",
    "\n",
    "_, (x_test, y_test) = cifar10.load_data()\n",
    "plt.imshow(x_test[0,:,:]);\n",
    "plt.gca().grid(False);"
   ]
  },
  {
   "cell_type": "code",
   "execution_count": 125,
   "metadata": {},
   "outputs": [
    {
     "data": {
      "text/plain": [
       "(1, 7, 7, 16)"
      ]
     },
     "execution_count": 125,
     "metadata": {},
     "output_type": "execute_result"
    }
   ],
   "source": [
    "new_model = Model(inputs=input_im, outputs=conv2)\n",
    "con1_activations = new_model.predict(x_test[0,:,:].reshape((1,32,32,3)))\n",
    "con1_activations.shape\n",
    "\n",
    "# fig, axes = plt.subplots(nrows=8, ncols=4, figsize=(15,20), dpi=80)\n",
    "\n",
    "# for i,ax in enumerate(axes.flatten()):\n",
    "#     print(\"i is: \",i)\n",
    "#     ax.imshow(con1_activations[0,:,:,i]);\n",
    "#     ax.grid(False);\n",
    "#     ax.axis('off');"
   ]
  },
  {
   "cell_type": "code",
   "execution_count": 126,
   "metadata": {},
   "outputs": [
    {
     "data": {
      "image/png": "[encoded data removed]",
      "text/plain": [
       "<Figure size 1200x1600 with 16 Axes>"
      ]
     },
     "metadata": {},
     "output_type": "display_data"
    }
   ],
   "source": [
    "fig, axes = plt.subplots(nrows=4, ncols=4, figsize=(15,20), dpi=80)\n",
    "\n",
    "for i,ax in enumerate(axes.flatten()):\n",
    "    ax.imshow(con1_activations[0,:,:,i]);\n",
    "    ax.grid(False);\n",
    "    ax.axis('off');"
   ]
  },
  {
   "cell_type": "markdown",
   "metadata": {},
   "source": [
    "##### Task 6.1  Effect of learning rate\n",
    "\n",
    "Take the best selected model in __Task 5.1__ and change its learning rate to: \n",
    "- 6.1.1 any value between 5 and 1.\n",
    "- 6.1.2 learning rate = any value between 0.6 and  0.1 \n",
    "- 6.1.3 learning rate = 0.00001\n",
    "\n",
    "and train these three models to compare the effect learning rate."
   ]
  },
  {
   "cell_type": "code",
   "execution_count": 130,
   "metadata": {},
   "outputs": [
    {
     "name": "stdout",
     "output_type": "stream",
     "text": [
      "_________________________________________________________________\n",
      "Layer (type)                 Output Shape              Param #   \n",
      "=================================================================\n",
      "input_im (InputLayer)        (None, 32, 32, 3)         0         \n",
      "_________________________________________________________________\n",
      "batch_normalization_20 (Batc (None, 32, 32, 3)         12        \n",
      "_________________________________________________________________\n",
      "conv2d_43 (Conv2D)           (None, 15, 15, 8)         224       \n",
      "_________________________________________________________________\n",
      "batch_normalization_21 (Batc (None, 15, 15, 8)         32        \n",
      "_________________________________________________________________\n",
      "max_pooling2d_21 (MaxPooling (None, 7, 7, 8)           0         \n",
      "_________________________________________________________________\n",
      "dropout_27 (Dropout)         (None, 7, 7, 8)           0         \n",
      "_________________________________________________________________\n",
      "conv2d_44 (Conv2D)           (None, 3, 3, 16)          1168      \n",
      "_________________________________________________________________\n",
      "batch_normalization_22 (Batc (None, 3, 3, 16)          64        \n",
      "_________________________________________________________________\n",
      "max_pooling2d_22 (MaxPooling (None, 1, 1, 16)          0         \n",
      "_________________________________________________________________\n",
      "dropout_28 (Dropout)         (None, 1, 1, 16)          0         \n",
      "_________________________________________________________________\n",
      "flatten_22 (Flatten)         (None, 16)                0         \n",
      "_________________________________________________________________\n",
      "dense_43 (Dense)             (None, 44)                748       \n",
      "_________________________________________________________________\n",
      "dense_44 (Dense)             (None, 10)                450       \n",
      "=================================================================\n",
      "Total params: 2,698\n",
      "Trainable params: 2,644\n",
      "Non-trainable params: 54\n",
      "_________________________________________________________________\n"
     ]
    }
   ],
   "source": [
    "# add your code here\n",
    "model = None\n",
    "\n",
    "# Add your code to complete this cell\n",
    "\n",
    "model_name = 'model_batch'\n",
    "if not os.path.exists('./'+model_name):\n",
    "    os.mkdir(model_name)\n",
    "    \n",
    "# ====================================================   \n",
    "input_im = Input(shape=(input_shape), name='input_im')\n",
    "b_Norm1=BatchNormalization(axis=-1,momentum=0.99, epsilon=0.001)(input_im)\n",
    "# Hidden Layers\n",
    "conv1 = Conv2D(8, kernel_size=(3, 3), strides = (2,2),  activation='relu')(b_Norm1)\n",
    "b_Norm2=BatchNormalization(axis=-1,momentum=0.99, epsilon=0.001)(conv1)\n",
    "pooled = MaxPooling2D(pool_size=(2, 2))(b_Norm2)\n",
    "dropped = Dropout(rate=0.2)(pooled)\n",
    "\n",
    "\n",
    "conv2 = Conv2D(16, (3, 3), strides = (2,2), activation='relu')(dropped)\n",
    "b_Norm3=BatchNormalization(axis=-1,momentum=0.99, epsilon=0.001)(conv2)\n",
    "pooled1 = MaxPooling2D(pool_size=(2, 2))(b_Norm3)\n",
    "dropped1 = Dropout(rate=0.2)(pooled1)\n",
    "flat = Flatten()(dropped1)\n",
    "\n",
    "dense1 = Dense(44, activation='relu')(flat)\n",
    "\n",
    "output_class = Dense(num_classes, activation='softmax')(dense1)\n",
    "model = Model(inputs=input_im, outputs=output_class)\n",
    "# ====================================================\n",
    "\n",
    "adam = Adam(lr=0.00001)\n",
    "model.compile(loss='categorical_crossentropy', \n",
    "              optimizer=adam, \n",
    "              metrics=['accuracy'])\n",
    "plot_model(model, model_name+'/'+model_name+'.png')\n",
    "model.summary()\n",
    "\n",
    "# save model\n"
   ]
  },
  {
   "cell_type": "code",
   "execution_count": null,
   "metadata": {},
   "outputs": [],
   "source": [
    "epochs = 5\n",
    "    \n",
    "checkpoint = ModelCheckpoint(model_name+'/'+model_name+'-{epoch:02d}-{val_loss:.2f}.h5', \n",
    "                             monitor='val_loss', verbose=1, save_best_only=True, mode='auto')\n",
    "cvslogger = CSVLogger(model_name+'/logs.csv', separator=',', append=True)\n",
    "reducelr = ReduceLROnPlateau(monitor='val_loss', factor=0.2, patience=3, min_lr=0.000001)\n",
    "tensorboard = LRTensorBoard(log_dir='./'+model_name, histogram_freq=0, write_graph=True, write_grads=1, \n",
    "                            batch_size=batch_size, write_images=True)\n",
    "\n",
    "callbacks = [checkpoint, tensorboard, cvslogger, reducelr]\n",
    "\n",
    "train_gen = data_generator(x_train, y_train, batch_size, preprocessing = 'method2')\n",
    "val_gen = data_generator(x_val, y_val, batch_size)\n",
    "test_gen = data_generator(x_test, y_test, batch_size)\n",
    "\n",
    "x,y= val_gen.__next__()\n",
    "hist_5 = model.fit_generator(train_gen, epochs=epochs, steps_per_epoch=len(y_train)//batch_size, \n",
    "                           validation_data=val_gen, validation_steps=len(y_val)//batch_size, \n",
    "                           callbacks=callbacks, verbose=1)\n"
   ]
  },
  {
   "cell_type": "markdown",
   "metadata": {},
   "source": [
    "###### Task 6.2 Plot loss and accuracy\n",
    "\n",
    "Plot the loss and accracy for best model selected in task 5.1, and model trained in 6.1.1, 6.1.2 and 6.1.3 task. Give the detailed analysis of the effect of learning rate in your words and select the best learning rate for this problem."
   ]
  },
  {
   "cell_type": "raw",
   "metadata": {},
   "source": [
    "I Observed that with the lower learning rate training was more reliable and it usually converged unless I tried very low value(0.000001) in which case loss reduced with very less value.\n",
    "On the other hand with a big learning rate like 3 it was taking big jumps in loss but it wasn't able to converge at all. This was becasue it was taking big jumps and ended up oscilating."
   ]
  }
 ],
 "metadata": {
  "kernelspec": {
   "display_name": "Python 3",
   "language": "python",
   "name": "python3"
  },
  "language_info": {
   "codemirror_mode": {
    "name": "ipython",
    "version": 3
   },
   "file_extension": ".py",
   "mimetype": "text/x-python",
   "name": "python",
   "nbconvert_exporter": "python",
   "pygments_lexer": "ipython3",
   "version": "3.7.3"
  },
  "widgets": {
   "application/vnd.jupyter.widget-state+json": {
    "state": {},
    "version_major": 2,
    "version_minor": 0
   }
  }
 },
 "nbformat": 4,
 "nbformat_minor": 2
}